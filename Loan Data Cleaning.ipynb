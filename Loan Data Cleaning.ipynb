{
 "cells": [
  {
   "cell_type": "markdown",
   "id": "ecc8c7ac-34d0-4a45-aff3-e65a92ea0d0c",
   "metadata": {},
   "source": [
    "Data Cleaning and Pre Processing"
   ]
  },
  {
   "cell_type": "code",
   "execution_count": 1000,
   "id": "90d9926e-9140-4cb4-8167-588b78b29fcb",
   "metadata": {},
   "outputs": [],
   "source": [
    "import numpy as np"
   ]
  },
  {
   "cell_type": "code",
   "execution_count": 1001,
   "id": "36b528d2-ef65-481e-9622-e0e0e9beb1a8",
   "metadata": {},
   "outputs": [],
   "source": [
    "np.set_printoptions(suppress=True, linewidth=100, precision=2)"
   ]
  },
  {
   "cell_type": "markdown",
   "id": "45befd0d-1638-4937-9f5e-2012cd1eb5cf",
   "metadata": {},
   "source": [
    "Importing data "
   ]
  },
  {
   "cell_type": "code",
   "execution_count": 1003,
   "id": "9e69fd97-b0d9-4955-b819-82819e4f0d12",
   "metadata": {},
   "outputs": [
    {
     "data": {
      "text/plain": [
       "array([[48010226.  ,         nan,    35000.  , ...,         nan,         nan,     9452.96],\n",
       "       [57693261.  ,         nan,    30000.  , ...,         nan,         nan,     4679.7 ],\n",
       "       [59432726.  ,         nan,    15000.  , ...,         nan,         nan,     1969.83],\n",
       "       ...,\n",
       "       [50415990.  ,         nan,    10000.  , ...,         nan,         nan,     2185.64],\n",
       "       [46154151.  ,         nan,         nan, ...,         nan,         nan,     3199.4 ],\n",
       "       [66055249.  ,         nan,    10000.  , ...,         nan,         nan,      301.9 ]])"
      ]
     },
     "execution_count": 1003,
     "metadata": {},
     "output_type": "execute_result"
    }
   ],
   "source": [
    "raw_data_np=np.genfromtxt(\"loan-data.csv\",delimiter=\";\",skip_header=1,autostrip=True)\n",
    "raw_data_np"
   ]
  },
  {
   "cell_type": "markdown",
   "id": "cc858f4a-dd77-4624-af23-02b546213f4e",
   "metadata": {},
   "source": [
    "Checking for Incomplete Data"
   ]
  },
  {
   "cell_type": "code",
   "execution_count": 1005,
   "id": "471e2913-105a-4e80-a1ab-46c513d61655",
   "metadata": {},
   "outputs": [
    {
     "data": {
      "text/plain": [
       "88005"
      ]
     },
     "execution_count": 1005,
     "metadata": {},
     "output_type": "execute_result"
    }
   ],
   "source": [
    "np.isnan(raw_data_np).sum()"
   ]
  },
  {
   "cell_type": "code",
   "execution_count": 1006,
   "id": "34e4e198-4f8e-4543-94e6-1095c6e2b9a7",
   "metadata": {},
   "outputs": [
    {
     "name": "stderr",
     "output_type": "stream",
     "text": [
      "C:\\Users\\Yashwanth\\AppData\\Local\\Temp\\ipykernel_27236\\2987940166.py:2: RuntimeWarning: Mean of empty slice\n",
      "  temporary_mean=np.nanmean(raw_data_np,axis=0).round(2)\n"
     ]
    }
   ],
   "source": [
    "temporary_fill=np.nanmax(raw_data_np)+1\n",
    "temporary_mean=np.nanmean(raw_data_np,axis=0).round(2)"
   ]
  },
  {
   "cell_type": "code",
   "execution_count": 1007,
   "id": "28a4de5f-9acf-46c0-8cef-ae351a4596a3",
   "metadata": {},
   "outputs": [
    {
     "data": {
      "text/plain": [
       "68616520.0"
      ]
     },
     "execution_count": 1007,
     "metadata": {},
     "output_type": "execute_result"
    }
   ],
   "source": [
    "temporary_fill"
   ]
  },
  {
   "cell_type": "code",
   "execution_count": 1008,
   "id": "f0c60958-8c49-4afc-8fd5-b061c4f0a8d8",
   "metadata": {},
   "outputs": [
    {
     "data": {
      "text/plain": [
       "array([54015809.19,         nan,    15273.46,         nan,    15311.04,         nan,       16.62,\n",
       "            440.92,         nan,         nan,         nan,         nan,         nan,     3143.85])"
      ]
     },
     "execution_count": 1008,
     "metadata": {},
     "output_type": "execute_result"
    }
   ],
   "source": [
    "temporary_mean"
   ]
  },
  {
   "cell_type": "code",
   "execution_count": 1009,
   "id": "94bf5f7a-8e9b-4e6e-9ab4-e1139dc775cf",
   "metadata": {},
   "outputs": [
    {
     "name": "stderr",
     "output_type": "stream",
     "text": [
      "C:\\Users\\Yashwanth\\AppData\\Local\\Temp\\ipykernel_27236\\4195934004.py:1: RuntimeWarning: All-NaN slice encountered\n",
      "  temporary_stats=np.array([np.nanmin(raw_data_np,axis=0),\n",
      "C:\\Users\\Yashwanth\\AppData\\Local\\Temp\\ipykernel_27236\\4195934004.py:3: RuntimeWarning: All-NaN slice encountered\n",
      "  np.nanmax(raw_data_np,axis=0)])\n"
     ]
    }
   ],
   "source": [
    "temporary_stats=np.array([np.nanmin(raw_data_np,axis=0),\n",
    "                         temporary_mean,\n",
    "                         np.nanmax(raw_data_np,axis=0)])"
   ]
  },
  {
   "cell_type": "code",
   "execution_count": 1010,
   "id": "5c486f6e-23e6-482e-a55e-337d666f010c",
   "metadata": {},
   "outputs": [
    {
     "data": {
      "text/plain": [
       "array([[  373332.  ,         nan,     1000.  ,         nan,     1000.  ,         nan,        6.  ,\n",
       "              31.42,         nan,         nan,         nan,         nan,         nan,        0.  ],\n",
       "       [54015809.19,         nan,    15273.46,         nan,    15311.04,         nan,       16.62,\n",
       "             440.92,         nan,         nan,         nan,         nan,         nan,     3143.85],\n",
       "       [68616519.  ,         nan,    35000.  ,         nan,    35000.  ,         nan,       28.99,\n",
       "            1372.97,         nan,         nan,         nan,         nan,         nan,    41913.62]])"
      ]
     },
     "execution_count": 1010,
     "metadata": {},
     "output_type": "execute_result"
    }
   ],
   "source": [
    "temporary_stats"
   ]
  },
  {
   "cell_type": "code",
   "execution_count": 1011,
   "id": "4a3f471a-5688-4b8d-9f57-add940c046d1",
   "metadata": {},
   "outputs": [],
   "source": [
    "column_strings=np.argwhere(np.isnan(temporary_mean)).squeeze()"
   ]
  },
  {
   "cell_type": "code",
   "execution_count": 1012,
   "id": "7412d090-d4a3-49b4-85cc-19a2e9ac60d0",
   "metadata": {},
   "outputs": [
    {
     "data": {
      "text/plain": [
       "array([ 1,  3,  5,  8,  9, 10, 11, 12], dtype=int64)"
      ]
     },
     "execution_count": 1012,
     "metadata": {},
     "output_type": "execute_result"
    }
   ],
   "source": [
    "column_strings"
   ]
  },
  {
   "cell_type": "code",
   "execution_count": 1013,
   "id": "0fd421f9-d777-4b80-b7f5-7971b2d02417",
   "metadata": {},
   "outputs": [],
   "source": [
    "column_numeric=np.argwhere(np.isnan(temporary_mean)==False).squeeze()"
   ]
  },
  {
   "cell_type": "code",
   "execution_count": 1014,
   "id": "4c4cae64-ac84-44af-a5ff-981576a32d1c",
   "metadata": {},
   "outputs": [
    {
     "data": {
      "text/plain": [
       "array([ 0,  2,  4,  6,  7, 13], dtype=int64)"
      ]
     },
     "execution_count": 1014,
     "metadata": {},
     "output_type": "execute_result"
    }
   ],
   "source": [
    "column_numeric"
   ]
  },
  {
   "cell_type": "markdown",
   "id": "4cbb1d68-2a12-40ba-bbf1-23d8c3d13123",
   "metadata": {},
   "source": [
    "Reimporting dataset"
   ]
  },
  {
   "cell_type": "code",
   "execution_count": 1016,
   "id": "7737ea42-7cce-4fbb-8252-ad1d87c7399e",
   "metadata": {},
   "outputs": [
    {
     "data": {
      "text/plain": [
       "array([['May-15', 'Current', '36 months', ..., 'Verified',\n",
       "        'https://www.lendingclub.com/browse/loanDetail.action?loan_id=48010226', 'CA'],\n",
       "       ['', 'Current', '36 months', ..., 'Source Verified',\n",
       "        'https://www.lendingclub.com/browse/loanDetail.action?loan_id=57693261', 'NY'],\n",
       "       ['Sep-15', 'Current', '36 months', ..., 'Verified',\n",
       "        'https://www.lendingclub.com/browse/loanDetail.action?loan_id=59432726', 'PA'],\n",
       "       ...,\n",
       "       ['Jun-15', 'Current', '36 months', ..., 'Source Verified',\n",
       "        'https://www.lendingclub.com/browse/loanDetail.action?loan_id=50415990', 'CA'],\n",
       "       ['Apr-15', 'Current', '36 months', ..., 'Source Verified',\n",
       "        'https://www.lendingclub.com/browse/loanDetail.action?loan_id=46154151', 'OH'],\n",
       "       ['Dec-15', 'Current', '36 months', ..., '',\n",
       "        'https://www.lendingclub.com/browse/loanDetail.action?loan_id=66055249', 'IL']],\n",
       "      dtype='<U69')"
      ]
     },
     "execution_count": 1016,
     "metadata": {},
     "output_type": "execute_result"
    }
   ],
   "source": [
    "load_data_strings=np.genfromtxt(\"loan-data.csv\",delimiter=\";\",\n",
    "                                skip_header=1,\n",
    "                                autostrip=True,\n",
    "                               usecols=column_strings,\n",
    "                               dtype=str)\n",
    "load_data_strings"
   ]
  },
  {
   "cell_type": "code",
   "execution_count": 1017,
   "id": "6e6bd129-092d-4f59-bb36-11170c692d78",
   "metadata": {},
   "outputs": [
    {
     "data": {
      "text/plain": [
       "array([[48010226.  ,    35000.  ,    35000.  ,       13.33,     1184.86,     9452.96],\n",
       "       [57693261.  ,    30000.  ,    30000.  , 68616520.  ,      938.57,     4679.7 ],\n",
       "       [59432726.  ,    15000.  ,    15000.  , 68616520.  ,      494.86,     1969.83],\n",
       "       ...,\n",
       "       [50415990.  ,    10000.  ,    10000.  , 68616520.  , 68616520.  ,     2185.64],\n",
       "       [46154151.  , 68616520.  ,    10000.  ,       16.55,      354.3 ,     3199.4 ],\n",
       "       [66055249.  ,    10000.  ,    10000.  , 68616520.  ,      309.97,      301.9 ]])"
      ]
     },
     "execution_count": 1017,
     "metadata": {},
     "output_type": "execute_result"
    }
   ],
   "source": [
    "load_data_numeric=np.genfromtxt(\"loan-data.csv\",delimiter=\";\",\n",
    "                                skip_header=1,\n",
    "                                autostrip=True,\n",
    "                               usecols=column_numeric,\n",
    "                               filling_values=temporary_fill)\n",
    "load_data_numeric"
   ]
  },
  {
   "cell_type": "markdown",
   "id": "32c1afd9-1623-4ed7-ac1d-4ca836569962",
   "metadata": {},
   "source": [
    "The Name of the columns"
   ]
  },
  {
   "cell_type": "code",
   "execution_count": 1019,
   "id": "f026c29f-0bfa-4d6e-96c1-494e87c12ef5",
   "metadata": {},
   "outputs": [
    {
     "data": {
      "text/plain": [
       "array(['id', 'issue_d', 'loan_amnt', 'loan_status', 'funded_amnt', 'term', 'int_rate',\n",
       "       'installment', 'grade', 'sub_grade', 'verification_status', 'url', 'addr_state',\n",
       "       'total_pymnt'], dtype='<U19')"
      ]
     },
     "execution_count": 1019,
     "metadata": {},
     "output_type": "execute_result"
    }
   ],
   "source": [
    "headers_full=np.genfromtxt(\"loan-data.csv\",delimiter=\";\",\n",
    "                                autostrip=True,\n",
    "                               skip_footer=raw_data_np.shape[0],\n",
    "                               dtype=str)\n",
    "headers_full"
   ]
  },
  {
   "cell_type": "code",
   "execution_count": 1020,
   "id": "91ef5738-6bb9-42ec-869c-6870b58f0bc5",
   "metadata": {},
   "outputs": [],
   "source": [
    "header_string,header_numeric= headers_full[column_strings],headers_full[column_numeric]"
   ]
  },
  {
   "cell_type": "code",
   "execution_count": 1021,
   "id": "f7821714-2580-42a8-9a94-d123a34745ec",
   "metadata": {},
   "outputs": [
    {
     "data": {
      "text/plain": [
       "array(['issue_d', 'loan_status', 'term', 'grade', 'sub_grade', 'verification_status', 'url',\n",
       "       'addr_state'], dtype='<U19')"
      ]
     },
     "execution_count": 1021,
     "metadata": {},
     "output_type": "execute_result"
    }
   ],
   "source": [
    "header_string"
   ]
  },
  {
   "cell_type": "code",
   "execution_count": 1022,
   "id": "ca1ad2ca-7000-4134-86cf-aac85f30430f",
   "metadata": {},
   "outputs": [
    {
     "data": {
      "text/plain": [
       "array(['id', 'loan_amnt', 'funded_amnt', 'int_rate', 'installment', 'total_pymnt'], dtype='<U19')"
      ]
     },
     "execution_count": 1022,
     "metadata": {},
     "output_type": "execute_result"
    }
   ],
   "source": [
    "header_numeric"
   ]
  },
  {
   "cell_type": "markdown",
   "id": "16598636-0913-4a74-aefc-83f697263c35",
   "metadata": {},
   "source": [
    "Creating Checkpoints"
   ]
  },
  {
   "cell_type": "code",
   "execution_count": 1024,
   "id": "1a3fbf04-b6bf-41b6-bcd3-250e93897d19",
   "metadata": {},
   "outputs": [],
   "source": [
    "def checkpoint(file_name,checkpoint_header,checkpoint_data):\n",
    "    np.savez(file_name,header=checkpoint_header,data=checkpoint_data)\n",
    "    checkpoint_variable=np.load(file_name+\".npz\")\n",
    "    return (checkpoint_variable)"
   ]
  },
  {
   "cell_type": "code",
   "execution_count": 1025,
   "id": "c887f740-3363-4ae5-a295-b1d781e0c59a",
   "metadata": {},
   "outputs": [],
   "source": [
    "checkpoint_test3=checkpoint('checkpoint-test3',header_string,load_data_strings)"
   ]
  },
  {
   "cell_type": "code",
   "execution_count": 1026,
   "id": "cd2924fa-93ef-4127-80de-b7ad80d00bfc",
   "metadata": {},
   "outputs": [
    {
     "data": {
      "text/plain": [
       "array([['May-15', 'Current', '36 months', ..., 'Verified',\n",
       "        'https://www.lendingclub.com/browse/loanDetail.action?loan_id=48010226', 'CA'],\n",
       "       ['', 'Current', '36 months', ..., 'Source Verified',\n",
       "        'https://www.lendingclub.com/browse/loanDetail.action?loan_id=57693261', 'NY'],\n",
       "       ['Sep-15', 'Current', '36 months', ..., 'Verified',\n",
       "        'https://www.lendingclub.com/browse/loanDetail.action?loan_id=59432726', 'PA'],\n",
       "       ...,\n",
       "       ['Jun-15', 'Current', '36 months', ..., 'Source Verified',\n",
       "        'https://www.lendingclub.com/browse/loanDetail.action?loan_id=50415990', 'CA'],\n",
       "       ['Apr-15', 'Current', '36 months', ..., 'Source Verified',\n",
       "        'https://www.lendingclub.com/browse/loanDetail.action?loan_id=46154151', 'OH'],\n",
       "       ['Dec-15', 'Current', '36 months', ..., '',\n",
       "        'https://www.lendingclub.com/browse/loanDetail.action?loan_id=66055249', 'IL']],\n",
       "      dtype='<U69')"
      ]
     },
     "execution_count": 1026,
     "metadata": {},
     "output_type": "execute_result"
    }
   ],
   "source": [
    "checkpoint_test3['data']"
   ]
  },
  {
   "cell_type": "code",
   "execution_count": 1027,
   "id": "12a71a1d-4781-426b-8bc8-605170e66aa2",
   "metadata": {},
   "outputs": [
    {
     "data": {
      "text/plain": [
       "True"
      ]
     },
     "execution_count": 1027,
     "metadata": {},
     "output_type": "execute_result"
    }
   ],
   "source": [
    "np.array_equal(checkpoint_test3['data'],load_data_strings)"
   ]
  },
  {
   "cell_type": "markdown",
   "id": "51b767be-3695-426a-ac44-ed7852b69889",
   "metadata": {},
   "source": [
    "Manipulating String columns"
   ]
  },
  {
   "cell_type": "code",
   "execution_count": 1029,
   "id": "4a409849-2dac-4020-bd3e-b42957503fb3",
   "metadata": {},
   "outputs": [
    {
     "data": {
      "text/plain": [
       "array(['issue_d', 'loan_status', 'term', 'grade', 'sub_grade', 'verification_status', 'url',\n",
       "       'addr_state'], dtype='<U19')"
      ]
     },
     "execution_count": 1029,
     "metadata": {},
     "output_type": "execute_result"
    }
   ],
   "source": [
    "header_string"
   ]
  },
  {
   "cell_type": "code",
   "execution_count": 1030,
   "id": "fbfc32db-c643-460d-951d-a5940c578606",
   "metadata": {},
   "outputs": [],
   "source": [
    "header_string[0]='Issue_date'"
   ]
  },
  {
   "cell_type": "code",
   "execution_count": 1031,
   "id": "a0b8455d-f8cb-4e8c-9cf1-d196a415d543",
   "metadata": {},
   "outputs": [
    {
     "data": {
      "text/plain": [
       "array(['Issue_date', 'loan_status', 'term', 'grade', 'sub_grade', 'verification_status', 'url',\n",
       "       'addr_state'], dtype='<U19')"
      ]
     },
     "execution_count": 1031,
     "metadata": {},
     "output_type": "execute_result"
    }
   ],
   "source": [
    "header_string"
   ]
  },
  {
   "cell_type": "code",
   "execution_count": 1032,
   "id": "235d9d8e-4b13-4520-8622-441618bc8ebd",
   "metadata": {},
   "outputs": [
    {
     "data": {
      "text/plain": [
       "array([['May-15', 'Current', '36 months', ..., 'Verified',\n",
       "        'https://www.lendingclub.com/browse/loanDetail.action?loan_id=48010226', 'CA'],\n",
       "       ['', 'Current', '36 months', ..., 'Source Verified',\n",
       "        'https://www.lendingclub.com/browse/loanDetail.action?loan_id=57693261', 'NY'],\n",
       "       ['Sep-15', 'Current', '36 months', ..., 'Verified',\n",
       "        'https://www.lendingclub.com/browse/loanDetail.action?loan_id=59432726', 'PA'],\n",
       "       ...,\n",
       "       ['Jun-15', 'Current', '36 months', ..., 'Source Verified',\n",
       "        'https://www.lendingclub.com/browse/loanDetail.action?loan_id=50415990', 'CA'],\n",
       "       ['Apr-15', 'Current', '36 months', ..., 'Source Verified',\n",
       "        'https://www.lendingclub.com/browse/loanDetail.action?loan_id=46154151', 'OH'],\n",
       "       ['Dec-15', 'Current', '36 months', ..., '',\n",
       "        'https://www.lendingclub.com/browse/loanDetail.action?loan_id=66055249', 'IL']],\n",
       "      dtype='<U69')"
      ]
     },
     "execution_count": 1032,
     "metadata": {},
     "output_type": "execute_result"
    }
   ],
   "source": [
    "load_data_strings"
   ]
  },
  {
   "cell_type": "markdown",
   "id": "a641cc25-6504-4c56-b36b-c36b6dba8ded",
   "metadata": {},
   "source": [
    "Issue Date"
   ]
  },
  {
   "cell_type": "code",
   "execution_count": 1034,
   "id": "283b52ee-22c1-44e7-a688-228298872457",
   "metadata": {},
   "outputs": [],
   "source": [
    "load_data_strings[:,0]=checkpoint_test3['data'][:,0]"
   ]
  },
  {
   "cell_type": "code",
   "execution_count": 1035,
   "id": "65946b61-9862-4044-9a1f-c5c711b55753",
   "metadata": {},
   "outputs": [
    {
     "data": {
      "text/plain": [
       "array(['', 'Apr-15', 'Aug-15', 'Dec-15', 'Feb-15', 'Jan-15', 'Jul-15', 'Jun-15', 'Mar-15',\n",
       "       'May-15', 'Nov-15', 'Oct-15', 'Sep-15'], dtype='<U69')"
      ]
     },
     "execution_count": 1035,
     "metadata": {},
     "output_type": "execute_result"
    }
   ],
   "source": [
    "np.unique(load_data_strings[:,0])"
   ]
  },
  {
   "cell_type": "code",
   "execution_count": 1036,
   "id": "c4a7a6f7-345e-40bd-9822-fd52d333662a",
   "metadata": {},
   "outputs": [],
   "source": [
    "load_data_strings[:,0]=np.chararray.strip(load_data_strings[:,0],\"-15\")"
   ]
  },
  {
   "cell_type": "code",
   "execution_count": 1037,
   "id": "9d7dd0ae-df34-49e6-b96b-ab4c7b553c47",
   "metadata": {},
   "outputs": [
    {
     "data": {
      "text/plain": [
       "array(['', 'Apr', 'Aug', 'Dec', 'Feb', 'Jan', 'Jul', 'Jun', 'Mar', 'May', 'Nov', 'Oct', 'Sep'],\n",
       "      dtype='<U69')"
      ]
     },
     "execution_count": 1037,
     "metadata": {},
     "output_type": "execute_result"
    }
   ],
   "source": [
    "np.unique(load_data_strings[:,0])"
   ]
  },
  {
   "cell_type": "code",
   "execution_count": 1038,
   "id": "67568434-1b91-480d-9f4e-ad88305b8e11",
   "metadata": {},
   "outputs": [],
   "source": [
    "months_names=np.array(['','Jan','Feb','Mar','Apr','May','Jun','Jul','Aug','Sep','Oct','Nov','Dec'])"
   ]
  },
  {
   "cell_type": "code",
   "execution_count": 1039,
   "id": "615eae42-093b-4f72-9e44-7acd22a6de66",
   "metadata": {},
   "outputs": [
    {
     "data": {
      "text/plain": [
       "array(['', 'Jan', 'Feb', 'Mar', 'Apr', 'May', 'Jun', 'Jul', 'Aug', 'Sep', 'Oct', 'Nov', 'Dec'],\n",
       "      dtype='<U3')"
      ]
     },
     "execution_count": 1039,
     "metadata": {},
     "output_type": "execute_result"
    }
   ],
   "source": [
    "months_names"
   ]
  },
  {
   "cell_type": "code",
   "execution_count": 1040,
   "id": "b3a12dc1-8951-47a8-a868-67543c23c29b",
   "metadata": {},
   "outputs": [],
   "source": [
    "for i in range(13):\n",
    "   load_data_strings[:,0]=np.where(load_data_strings[:,0]==months_names[i],\n",
    "            i,load_data_strings[:,0]\n",
    "            )\n",
    "    # Converting month names to month numbers"
   ]
  },
  {
   "cell_type": "code",
   "execution_count": 1041,
   "id": "f5d1297e-50d4-4775-bb9d-1c6e97ac96e2",
   "metadata": {},
   "outputs": [
    {
     "data": {
      "text/plain": [
       "array(['0', '1', '10', '11', '12', '2', '3', '4', '5', '6', '7', '8', '9'], dtype='<U69')"
      ]
     },
     "execution_count": 1041,
     "metadata": {},
     "output_type": "execute_result"
    }
   ],
   "source": [
    "np.unique(load_data_strings[:,0])"
   ]
  },
  {
   "cell_type": "markdown",
   "id": "4f48c9a2-e90b-4b96-b8e4-8a8a1afd59b2",
   "metadata": {},
   "source": [
    "Loan Status"
   ]
  },
  {
   "cell_type": "code",
   "execution_count": 1043,
   "id": "22b6aa5a-bd3c-43a4-8337-7aa5f37b92be",
   "metadata": {},
   "outputs": [
    {
     "data": {
      "text/plain": [
       "array(['Issue_date', 'loan_status', 'term', 'grade', 'sub_grade', 'verification_status', 'url',\n",
       "       'addr_state'], dtype='<U19')"
      ]
     },
     "execution_count": 1043,
     "metadata": {},
     "output_type": "execute_result"
    }
   ],
   "source": [
    "header_string"
   ]
  },
  {
   "cell_type": "code",
   "execution_count": 1044,
   "id": "29bd5e39-1f62-4f8c-9f98-9fb4bc511ae4",
   "metadata": {},
   "outputs": [],
   "source": [
    "load_data_strings[:,1]=checkpoint_test3['data'][:,1]"
   ]
  },
  {
   "cell_type": "code",
   "execution_count": 1045,
   "id": "565b89e1-9435-4342-99b9-94dd1be34272",
   "metadata": {},
   "outputs": [
    {
     "data": {
      "text/plain": [
       "array(['', 'Charged Off', 'Current', 'Default', 'Fully Paid', 'In Grace Period', 'Issued',\n",
       "       'Late (16-30 days)', 'Late (31-120 days)'], dtype='<U69')"
      ]
     },
     "execution_count": 1045,
     "metadata": {},
     "output_type": "execute_result"
    }
   ],
   "source": [
    "np.unique(load_data_strings[:,1])"
   ]
  },
  {
   "cell_type": "code",
   "execution_count": 1046,
   "id": "52e06ad5-9ea5-4d59-9ef0-a5c84e53b86e",
   "metadata": {},
   "outputs": [],
   "source": [
    "status_bad=np.array(['','Charged Off','Default','Late (31-120 days)'])\n",
    "# Dividing status into two major categories i.e good or bad based on their loan_status, So that it will be easy to analyse."
   ]
  },
  {
   "cell_type": "code",
   "execution_count": 1047,
   "id": "db742fcd-5d70-413e-acd1-94976f191350",
   "metadata": {},
   "outputs": [
    {
     "data": {
      "text/plain": [
       "array(['', 'Charged Off', 'Default', 'Late (31-120 days)'], dtype='<U18')"
      ]
     },
     "execution_count": 1047,
     "metadata": {},
     "output_type": "execute_result"
    }
   ],
   "source": [
    "status_bad"
   ]
  },
  {
   "cell_type": "code",
   "execution_count": 1048,
   "id": "7616994f-38e9-463b-bbe5-263d1fd8aa22",
   "metadata": {},
   "outputs": [],
   "source": [
    "load_data_strings[:,1]=np.where(np.isin(load_data_strings[:,1],status_bad),0,1)"
   ]
  },
  {
   "cell_type": "code",
   "execution_count": 1049,
   "id": "9f2af750-7df3-4ded-81e6-725eb6e7f367",
   "metadata": {},
   "outputs": [
    {
     "data": {
      "text/plain": [
       "array(['0', '1'], dtype='<U69')"
      ]
     },
     "execution_count": 1049,
     "metadata": {},
     "output_type": "execute_result"
    }
   ],
   "source": [
    "np.unique(load_data_strings[:,1])"
   ]
  },
  {
   "cell_type": "code",
   "execution_count": 1050,
   "id": "a8786452-169a-4102-a571-a4d827d55a8f",
   "metadata": {},
   "outputs": [
    {
     "data": {
      "text/plain": [
       "array(['1', '1', '1', ..., '1', '1', '1'], dtype='<U69')"
      ]
     },
     "execution_count": 1050,
     "metadata": {},
     "output_type": "execute_result"
    }
   ],
   "source": [
    "load_data_strings[:,1]"
   ]
  },
  {
   "cell_type": "markdown",
   "id": "e80864cb-c31b-4cc9-9797-a8083047b339",
   "metadata": {},
   "source": [
    "Term"
   ]
  },
  {
   "cell_type": "code",
   "execution_count": 1052,
   "id": "608efe94-d09d-4dd5-a757-e3b6fda38fd0",
   "metadata": {},
   "outputs": [
    {
     "data": {
      "text/plain": [
       "array(['Issue_date', 'loan_status', 'term', 'grade', 'sub_grade', 'verification_status', 'url',\n",
       "       'addr_state'], dtype='<U19')"
      ]
     },
     "execution_count": 1052,
     "metadata": {},
     "output_type": "execute_result"
    }
   ],
   "source": [
    "header_string"
   ]
  },
  {
   "cell_type": "code",
   "execution_count": 1053,
   "id": "04282538-36fc-4056-b00f-ef222ab6c338",
   "metadata": {},
   "outputs": [
    {
     "data": {
      "text/plain": [
       "array(['36 months', '36 months', '36 months', ..., '36 months', '36 months', '36 months'],\n",
       "      dtype='<U69')"
      ]
     },
     "execution_count": 1053,
     "metadata": {},
     "output_type": "execute_result"
    }
   ],
   "source": [
    "load_data_strings[:,2]"
   ]
  },
  {
   "cell_type": "code",
   "execution_count": 1054,
   "id": "82ed927f-cfc5-419a-a260-0790c452f8ac",
   "metadata": {},
   "outputs": [
    {
     "data": {
      "text/plain": [
       "array(['', '36 months', '60 months'], dtype='<U69')"
      ]
     },
     "execution_count": 1054,
     "metadata": {},
     "output_type": "execute_result"
    }
   ],
   "source": [
    "np.unique(load_data_strings[:,2])"
   ]
  },
  {
   "cell_type": "code",
   "execution_count": 1055,
   "id": "c35d2cba-5c6c-4f12-86ac-6c82b094b3ed",
   "metadata": {},
   "outputs": [],
   "source": [
    "load_data_strings[:,2]=np.chararray.strip(load_data_strings[:,2],\" months\")"
   ]
  },
  {
   "cell_type": "code",
   "execution_count": 1056,
   "id": "8df3dfc7-248f-4fa5-bed3-6c4e700edcf9",
   "metadata": {},
   "outputs": [
    {
     "data": {
      "text/plain": [
       "array(['36', '36', '36', ..., '36', '36', '36'], dtype='<U69')"
      ]
     },
     "execution_count": 1056,
     "metadata": {},
     "output_type": "execute_result"
    }
   ],
   "source": [
    "load_data_strings[:,2]"
   ]
  },
  {
   "cell_type": "code",
   "execution_count": 1057,
   "id": "a4e11479-e07c-4535-aa79-d29beb343a7e",
   "metadata": {},
   "outputs": [
    {
     "data": {
      "text/plain": [
       "array(['', '36', '60'], dtype='<U69')"
      ]
     },
     "execution_count": 1057,
     "metadata": {},
     "output_type": "execute_result"
    }
   ],
   "source": [
    "np.unique(load_data_strings[:,2])"
   ]
  },
  {
   "cell_type": "code",
   "execution_count": 1058,
   "id": "d5afb796-a2c4-4b9c-bcf8-498b08f3f2da",
   "metadata": {},
   "outputs": [],
   "source": [
    "header_string[2]='term_months'\n",
    "# Renamed term to term_month as it gives more clear information "
   ]
  },
  {
   "cell_type": "code",
   "execution_count": 1059,
   "id": "1d6c9173-d33e-4898-a96d-eb9332ed774a",
   "metadata": {},
   "outputs": [
    {
     "data": {
      "text/plain": [
       "'term_months'"
      ]
     },
     "execution_count": 1059,
     "metadata": {},
     "output_type": "execute_result"
    }
   ],
   "source": [
    "header_string[2]"
   ]
  },
  {
   "cell_type": "code",
   "execution_count": 1060,
   "id": "6a199e2e-d2df-4c3f-aa38-ed47b6aa1d48",
   "metadata": {},
   "outputs": [],
   "source": [
    "load_data_strings[:,2]=np.where(load_data_strings[:,2]=='',\n",
    "         '60',load_data_strings[:,2])\n",
    "# when we have missing data we assume the worst so replacing '' with 60 which is the max value"
   ]
  },
  {
   "cell_type": "code",
   "execution_count": 1061,
   "id": "3a15ad41-88a4-4973-98c0-8694f8eab7da",
   "metadata": {},
   "outputs": [
    {
     "data": {
      "text/plain": [
       "array(['36', '60'], dtype='<U69')"
      ]
     },
     "execution_count": 1061,
     "metadata": {},
     "output_type": "execute_result"
    }
   ],
   "source": [
    "np.unique(load_data_strings[:,2])"
   ]
  },
  {
   "cell_type": "markdown",
   "id": "2c459edb-b121-41d9-9b0e-a85424c992f6",
   "metadata": {},
   "source": [
    "Grade and Subgrade"
   ]
  },
  {
   "cell_type": "code",
   "execution_count": 1063,
   "id": "6751c539-dea3-4320-a410-4e3b1f952608",
   "metadata": {},
   "outputs": [
    {
     "data": {
      "text/plain": [
       "array(['Issue_date', 'loan_status', 'term_months', 'grade', 'sub_grade', 'verification_status',\n",
       "       'url', 'addr_state'], dtype='<U19')"
      ]
     },
     "execution_count": 1063,
     "metadata": {},
     "output_type": "execute_result"
    }
   ],
   "source": [
    "header_string"
   ]
  },
  {
   "cell_type": "code",
   "execution_count": 1064,
   "id": "a3a62adb-7740-4269-9d56-5bd788c38a9c",
   "metadata": {},
   "outputs": [
    {
     "data": {
      "text/plain": [
       "array(['', 'A', 'B', 'C', 'D', 'E', 'F', 'G'], dtype='<U69')"
      ]
     },
     "execution_count": 1064,
     "metadata": {},
     "output_type": "execute_result"
    }
   ],
   "source": [
    "np.unique(load_data_strings[:,3])"
   ]
  },
  {
   "cell_type": "code",
   "execution_count": 1065,
   "id": "71c1739a-4257-45c0-8f08-cc26ac363b30",
   "metadata": {},
   "outputs": [
    {
     "data": {
      "text/plain": [
       "array(['', 'A1', 'A2', 'A3', 'A4', 'A5', 'B1', 'B2', 'B3', 'B4', 'B5', 'C1', 'C2', 'C3', 'C4',\n",
       "       'C5', 'D1', 'D2', 'D3', 'D4', 'D5', 'E1', 'E2', 'E3', 'E4', 'E5', 'F1', 'F2', 'F3', 'F4',\n",
       "       'F5', 'G1', 'G2', 'G3', 'G4', 'G5'], dtype='<U69')"
      ]
     },
     "execution_count": 1065,
     "metadata": {},
     "output_type": "execute_result"
    }
   ],
   "source": [
    "np.unique(load_data_strings[:,4])"
   ]
  },
  {
   "cell_type": "markdown",
   "id": "0636694c-10c1-41ae-a6e8-f4b786f84c00",
   "metadata": {},
   "source": [
    "Filling Subgrades"
   ]
  },
  {
   "cell_type": "code",
   "execution_count": 1067,
   "id": "49a2fb0d-77b4-4932-85ef-7221b25faf75",
   "metadata": {},
   "outputs": [],
   "source": [
    "for i in np.unique(load_data_strings[:,3])[1:]:\n",
    "    load_data_strings[:,4]=np.where((load_data_strings[:,4]=='') & (load_data_strings[:,3]==i),\n",
    "                                    i+'5',\n",
    "                                    load_data_strings[:,4])    "
   ]
  },
  {
   "cell_type": "code",
   "execution_count": 1068,
   "id": "5d8d433d-8c84-4bbd-9aca-aaefa9a73836",
   "metadata": {},
   "outputs": [
    {
     "data": {
      "text/plain": [
       "(array(['', 'A1', 'A2', 'A3', 'A4', 'A5', 'B1', 'B2', 'B3', 'B4', 'B5', 'C1', 'C2', 'C3', 'C4',\n",
       "        'C5', 'D1', 'D2', 'D3', 'D4', 'D5', 'E1', 'E2', 'E3', 'E4', 'E5', 'F1', 'F2', 'F3', 'F4',\n",
       "        'F5', 'G1', 'G2', 'G3', 'G4', 'G5'], dtype='<U69'),\n",
       " array([  9, 285, 278, 239, 323, 592, 509, 517, 530, 553, 633, 629, 567, 586, 564, 577, 391, 267,\n",
       "        250, 255, 288, 235, 162, 171, 139, 160,  94,  52,  34,  43,  24,  19,  10,   3,   7,   5],\n",
       "       dtype=int64))"
      ]
     },
     "execution_count": 1068,
     "metadata": {},
     "output_type": "execute_result"
    }
   ],
   "source": [
    "np.unique(load_data_strings[:,4],return_counts=True)"
   ]
  },
  {
   "cell_type": "code",
   "execution_count": 1069,
   "id": "15e18740-625a-4fb8-9881-edde8c7c34dc",
   "metadata": {},
   "outputs": [],
   "source": [
    "# Still sub_grade column has 9 empty columns Substituted it with new subgrade H1 "
   ]
  },
  {
   "cell_type": "code",
   "execution_count": 1070,
   "id": "13131074-f121-45ee-9c44-ffac2c015e12",
   "metadata": {},
   "outputs": [],
   "source": [
    "load_data_strings[:,4]=np.where(load_data_strings[:,4]=='','H1',load_data_strings[:,4])"
   ]
  },
  {
   "cell_type": "code",
   "execution_count": 1071,
   "id": "af37e39b-9a31-47fc-a95b-eeb85874d473",
   "metadata": {},
   "outputs": [
    {
     "data": {
      "text/plain": [
       "array(['A1', 'A2', 'A3', 'A4', 'A5', 'B1', 'B2', 'B3', 'B4', 'B5', 'C1', 'C2', 'C3', 'C4', 'C5',\n",
       "       'D1', 'D2', 'D3', 'D4', 'D5', 'E1', 'E2', 'E3', 'E4', 'E5', 'F1', 'F2', 'F3', 'F4', 'F5',\n",
       "       'G1', 'G2', 'G3', 'G4', 'G5', 'H1'], dtype='<U69')"
      ]
     },
     "execution_count": 1071,
     "metadata": {},
     "output_type": "execute_result"
    }
   ],
   "source": [
    "np.unique(load_data_strings[:,4])"
   ]
  },
  {
   "cell_type": "markdown",
   "id": "aa75fa2e-2b8c-4ee8-ae54-7a4a8cdc2dc3",
   "metadata": {},
   "source": [
    "Removing Grade column"
   ]
  },
  {
   "cell_type": "code",
   "execution_count": 1073,
   "id": "07d35d75-c0e0-4712-be13-673e51374289",
   "metadata": {},
   "outputs": [],
   "source": [
    "load_data_strings=np.delete(load_data_strings,3,axis=1)"
   ]
  },
  {
   "cell_type": "code",
   "execution_count": 1074,
   "id": "e09a195e-b685-4aef-b6da-c3295579486b",
   "metadata": {},
   "outputs": [
    {
     "data": {
      "text/plain": [
       "array(['C3', 'A5', 'B5', ..., 'A5', 'D2', 'A4'], dtype='<U69')"
      ]
     },
     "execution_count": 1074,
     "metadata": {},
     "output_type": "execute_result"
    }
   ],
   "source": [
    "load_data_strings[:,3]"
   ]
  },
  {
   "cell_type": "code",
   "execution_count": 1075,
   "id": "6954df75-2ee5-4da6-b2a9-16794b973028",
   "metadata": {},
   "outputs": [
    {
     "data": {
      "text/plain": [
       "array(['Issue_date', 'loan_status', 'term_months', 'sub_grade', 'verification_status', 'url',\n",
       "       'addr_state'], dtype='<U19')"
      ]
     },
     "execution_count": 1075,
     "metadata": {},
     "output_type": "execute_result"
    }
   ],
   "source": [
    "header_string=np.delete(header_string,3)\n",
    "header_string"
   ]
  },
  {
   "cell_type": "markdown",
   "id": "ea85b64e-ebf5-40db-a663-e4417c2f93a4",
   "metadata": {},
   "source": [
    "Converting Subgrade"
   ]
  },
  {
   "cell_type": "code",
   "execution_count": 1077,
   "id": "5d3ab460-e815-4a1c-9bba-04a09fa36ffa",
   "metadata": {},
   "outputs": [
    {
     "data": {
      "text/plain": [
       "array(['A1', 'A2', 'A3', 'A4', 'A5', 'B1', 'B2', 'B3', 'B4', 'B5', 'C1', 'C2', 'C3', 'C4', 'C5',\n",
       "       'D1', 'D2', 'D3', 'D4', 'D5', 'E1', 'E2', 'E3', 'E4', 'E5', 'F1', 'F2', 'F3', 'F4', 'F5',\n",
       "       'G1', 'G2', 'G3', 'G4', 'G5', 'H1'], dtype='<U69')"
      ]
     },
     "execution_count": 1077,
     "metadata": {},
     "output_type": "execute_result"
    }
   ],
   "source": [
    "np.unique(load_data_strings[:,3])"
   ]
  },
  {
   "cell_type": "code",
   "execution_count": 1078,
   "id": "f1ded58e-f6fe-4631-9231-d142bc419400",
   "metadata": {},
   "outputs": [],
   "source": [
    "keys=list(np.unique(load_data_strings[:,3]))\n",
    "values=list(range(1,np.unique(load_data_strings[:,3]).shape[0]+1))\n",
    "dict_sub_grade=dict(zip(keys,values))"
   ]
  },
  {
   "cell_type": "code",
   "execution_count": 1079,
   "id": "5dba1cbb-070e-4ff0-ac78-ba30b78195e4",
   "metadata": {},
   "outputs": [],
   "source": [
    "for i in np.unique(load_data_strings[:,3]):\n",
    "    load_data_strings[:,3]=np.where(load_data_strings[:,3]==i,\n",
    "                            dict_sub_grade[i],\n",
    "                            load_data_strings[:,3])"
   ]
  },
  {
   "cell_type": "code",
   "execution_count": 1080,
   "id": "4a95fbd8-5280-47fb-9a54-d7cae9adfebd",
   "metadata": {},
   "outputs": [
    {
     "data": {
      "text/plain": [
       "array(['1', '10', '11', '12', '13', '14', '15', '16', '17', '18', '19', '2', '20', '21', '22',\n",
       "       '23', '24', '25', '26', '27', '28', '29', '3', '30', '31', '32', '33', '34', '35', '36',\n",
       "       '4', '5', '6', '7', '8', '9'], dtype='<U69')"
      ]
     },
     "execution_count": 1080,
     "metadata": {},
     "output_type": "execute_result"
    }
   ],
   "source": [
    "np.unique(load_data_strings[:,3])"
   ]
  },
  {
   "cell_type": "markdown",
   "id": "f56be53a-18e9-4643-8d75-8448cab53b7e",
   "metadata": {},
   "source": [
    "Verification Status"
   ]
  },
  {
   "cell_type": "code",
   "execution_count": 1082,
   "id": "59d72b24-8580-4e52-9743-51f7c21222c8",
   "metadata": {},
   "outputs": [
    {
     "data": {
      "text/plain": [
       "array(['Issue_date', 'loan_status', 'term_months', 'sub_grade', 'verification_status', 'url',\n",
       "       'addr_state'], dtype='<U19')"
      ]
     },
     "execution_count": 1082,
     "metadata": {},
     "output_type": "execute_result"
    }
   ],
   "source": [
    "header_string"
   ]
  },
  {
   "cell_type": "code",
   "execution_count": 1083,
   "id": "6519e7ee-5799-4d16-be0f-83fffac72527",
   "metadata": {},
   "outputs": [
    {
     "data": {
      "text/plain": [
       "array(['', 'Not Verified', 'Source Verified', 'Verified'], dtype='<U69')"
      ]
     },
     "execution_count": 1083,
     "metadata": {},
     "output_type": "execute_result"
    }
   ],
   "source": [
    "np.unique(load_data_strings[:,4])"
   ]
  },
  {
   "cell_type": "code",
   "execution_count": 1084,
   "id": "4384a5e2-e9a3-4c95-90d2-04872608f9f9",
   "metadata": {},
   "outputs": [],
   "source": [
    "load_data_strings[:,4]=np.where((load_data_strings[:,4]=='') | (load_data_strings[:,4] == 'Not Verified'),0,1)"
   ]
  },
  {
   "cell_type": "code",
   "execution_count": 1085,
   "id": "9322e03e-5657-4b52-be50-ee84f9435c43",
   "metadata": {},
   "outputs": [
    {
     "data": {
      "text/plain": [
       "array(['0', '1'], dtype='<U69')"
      ]
     },
     "execution_count": 1085,
     "metadata": {},
     "output_type": "execute_result"
    }
   ],
   "source": [
    "np.unique(load_data_strings[:,4])"
   ]
  },
  {
   "cell_type": "markdown",
   "id": "0c7200d0-4b98-4dfa-8d97-cd5805329a9e",
   "metadata": {},
   "source": [
    "URL"
   ]
  },
  {
   "cell_type": "code",
   "execution_count": 1087,
   "id": "481e93c4-82b4-4e7d-a265-7d7156ccf43b",
   "metadata": {},
   "outputs": [
    {
     "data": {
      "text/plain": [
       "array(['https://www.lendingclub.com/browse/loanDetail.action?loan_id=48010226',\n",
       "       'https://www.lendingclub.com/browse/loanDetail.action?loan_id=57693261',\n",
       "       'https://www.lendingclub.com/browse/loanDetail.action?loan_id=59432726', ...,\n",
       "       'https://www.lendingclub.com/browse/loanDetail.action?loan_id=50415990',\n",
       "       'https://www.lendingclub.com/browse/loanDetail.action?loan_id=46154151',\n",
       "       'https://www.lendingclub.com/browse/loanDetail.action?loan_id=66055249'], dtype='<U69')"
      ]
     },
     "execution_count": 1087,
     "metadata": {},
     "output_type": "execute_result"
    }
   ],
   "source": [
    "load_data_strings[:,5]"
   ]
  },
  {
   "cell_type": "code",
   "execution_count": 1088,
   "id": "ce5a8821-c38b-442d-ac41-5bf4f039ac69",
   "metadata": {},
   "outputs": [
    {
     "data": {
      "text/plain": [
       "chararray(['48010226', '57693261', '59432726', ..., '50415990', '46154151', '66055249'],\n",
       "          dtype='<U69')"
      ]
     },
     "execution_count": 1088,
     "metadata": {},
     "output_type": "execute_result"
    }
   ],
   "source": [
    "np.chararray.strip(load_data_strings[:,5],\"https://www.lendingclub.com/browse/loanDetail.action?loan_id=\")"
   ]
  },
  {
   "cell_type": "code",
   "execution_count": 1089,
   "id": "21044138-c963-4be3-a487-e56420ad1807",
   "metadata": {},
   "outputs": [],
   "source": [
    "load_data_strings[:,5]=np.chararray.strip(load_data_strings[:,5],\"https://www.lendingclub.com/browse/loanDetail.action?loan_id=\")"
   ]
  },
  {
   "cell_type": "code",
   "execution_count": 1090,
   "id": "b0666c0b-9922-40fc-808e-71fdd6d8800f",
   "metadata": {},
   "outputs": [
    {
     "data": {
      "text/plain": [
       "array(['48010226', '57693261', '59432726', ..., '50415990', '46154151', '66055249'], dtype='<U69')"
      ]
     },
     "execution_count": 1090,
     "metadata": {},
     "output_type": "execute_result"
    }
   ],
   "source": [
    "load_data_strings[:,5]"
   ]
  },
  {
   "cell_type": "code",
   "execution_count": 1091,
   "id": "118d7f56-a39a-4637-b518-02121c3af49b",
   "metadata": {},
   "outputs": [
    {
     "data": {
      "text/plain": [
       "array(['id', 'issue_d', 'loan_amnt', 'loan_status', 'funded_amnt', 'term', 'int_rate',\n",
       "       'installment', 'grade', 'sub_grade', 'verification_status', 'url', 'addr_state',\n",
       "       'total_pymnt'], dtype='<U19')"
      ]
     },
     "execution_count": 1091,
     "metadata": {},
     "output_type": "execute_result"
    }
   ],
   "source": [
    "headers_full"
   ]
  },
  {
   "cell_type": "code",
   "execution_count": 1092,
   "id": "6e76fbe4-750d-48dd-8fb8-2f2f5b5d3699",
   "metadata": {},
   "outputs": [
    {
     "data": {
      "text/plain": [
       "array([48010226, 57693261, 59432726, ..., 50415990, 46154151, 66055249])"
      ]
     },
     "execution_count": 1092,
     "metadata": {},
     "output_type": "execute_result"
    }
   ],
   "source": [
    "load_data_numeric[:,0].astype(dtype=np.int32)"
   ]
  },
  {
   "cell_type": "code",
   "execution_count": 1093,
   "id": "976af531-a1e7-4c1e-badd-a5ddb84207d8",
   "metadata": {},
   "outputs": [
    {
     "data": {
      "text/plain": [
       "array([48010226, 57693261, 59432726, ..., 50415990, 46154151, 66055249])"
      ]
     },
     "execution_count": 1093,
     "metadata": {},
     "output_type": "execute_result"
    }
   ],
   "source": [
    "load_data_strings[:,5].astype(dtype=np.int32)"
   ]
  },
  {
   "cell_type": "code",
   "execution_count": 1094,
   "id": "02b1d6c7-865b-4636-b2b0-5908c40672f0",
   "metadata": {},
   "outputs": [
    {
     "data": {
      "text/plain": [
       "True"
      ]
     },
     "execution_count": 1094,
     "metadata": {},
     "output_type": "execute_result"
    }
   ],
   "source": [
    "np.array_equal(load_data_numeric[:,0].astype(dtype=np.int32),load_data_strings[:,5].astype(dtype=np.int32))"
   ]
  },
  {
   "cell_type": "code",
   "execution_count": 1095,
   "id": "631702ee-d7cf-4290-a96b-9cd8d7efa911",
   "metadata": {},
   "outputs": [],
   "source": [
    "load_data_strings=np.delete(load_data_strings,5,axis=1)"
   ]
  },
  {
   "cell_type": "code",
   "execution_count": 1096,
   "id": "7d8f3090-2125-4ca9-8bc0-f04bdfabea2d",
   "metadata": {},
   "outputs": [],
   "source": [
    "header_string=np.delete(header_string,5)"
   ]
  },
  {
   "cell_type": "code",
   "execution_count": 1097,
   "id": "25206591-d050-4e36-96b0-60ba9cf9a4cc",
   "metadata": {},
   "outputs": [
    {
     "data": {
      "text/plain": [
       "array(['CA', 'NY', 'PA', ..., 'CA', 'OH', 'IL'], dtype='<U69')"
      ]
     },
     "execution_count": 1097,
     "metadata": {},
     "output_type": "execute_result"
    }
   ],
   "source": [
    "load_data_strings[:,5]"
   ]
  },
  {
   "cell_type": "code",
   "execution_count": 1098,
   "id": "a0d39eb9-7746-4663-aaa2-13081e99240b",
   "metadata": {},
   "outputs": [
    {
     "data": {
      "text/plain": [
       "array(['Issue_date', 'loan_status', 'term_months', 'sub_grade', 'verification_status',\n",
       "       'addr_state'], dtype='<U19')"
      ]
     },
     "execution_count": 1098,
     "metadata": {},
     "output_type": "execute_result"
    }
   ],
   "source": [
    "header_string"
   ]
  },
  {
   "cell_type": "code",
   "execution_count": 1099,
   "id": "011c5fdc-c916-4d4f-848f-e9473564db43",
   "metadata": {},
   "outputs": [
    {
     "data": {
      "text/plain": [
       "array([48010226., 57693261., 59432726., ..., 50415990., 46154151., 66055249.])"
      ]
     },
     "execution_count": 1099,
     "metadata": {},
     "output_type": "execute_result"
    }
   ],
   "source": [
    "load_data_numeric[:,0]"
   ]
  },
  {
   "cell_type": "code",
   "execution_count": 1100,
   "id": "617ab5a7-02cf-460e-a500-0a26c1da264c",
   "metadata": {},
   "outputs": [
    {
     "data": {
      "text/plain": [
       "array(['id', 'loan_amnt', 'funded_amnt', 'int_rate', 'installment', 'total_pymnt'], dtype='<U19')"
      ]
     },
     "execution_count": 1100,
     "metadata": {},
     "output_type": "execute_result"
    }
   ],
   "source": [
    "header_numeric"
   ]
  },
  {
   "cell_type": "markdown",
   "id": "7c044afd-4512-4a8c-87da-c5dbb87d49b4",
   "metadata": {},
   "source": [
    "State Address"
   ]
  },
  {
   "cell_type": "code",
   "execution_count": 1102,
   "id": "9ab31807-0b72-40a3-8f84-bd93903268e1",
   "metadata": {},
   "outputs": [
    {
     "data": {
      "text/plain": [
       "array(['CA', 'NY', 'PA', ..., 'CA', 'OH', 'IL'], dtype='<U69')"
      ]
     },
     "execution_count": 1102,
     "metadata": {},
     "output_type": "execute_result"
    }
   ],
   "source": [
    "load_data_strings[:,5]"
   ]
  },
  {
   "cell_type": "code",
   "execution_count": 1103,
   "id": "c9b070fa-0752-4dde-9d65-18d293e6414f",
   "metadata": {},
   "outputs": [],
   "source": [
    "states_name,states_count=np.unique(load_data_strings[:,5],return_counts=True)"
   ]
  },
  {
   "cell_type": "code",
   "execution_count": 1104,
   "id": "534ff23d-f543-4768-bdbd-74b9b40c98a2",
   "metadata": {},
   "outputs": [
    {
     "data": {
      "text/plain": [
       "(array(['CA', 'NY', 'TX', 'FL', '', 'IL', 'NJ', 'GA', 'PA', 'OH', 'MI', 'NC', 'VA', 'MD', 'AZ',\n",
       "        'WA', 'MA', 'CO', 'MO', 'MN', 'IN', 'WI', 'CT', 'TN', 'NV', 'AL', 'LA', 'OR', 'SC', 'KY',\n",
       "        'KS', 'OK', 'UT', 'AR', 'MS', 'NH', 'NM', 'WV', 'HI', 'RI', 'MT', 'DE', 'DC', 'WY', 'AK',\n",
       "        'NE', 'SD', 'VT', 'ND', 'ME'], dtype='<U69'),\n",
       " array([1336,  777,  758,  690,  500,  389,  341,  321,  320,  312,  267,  261,  242,  222,  220,\n",
       "         216,  210,  201,  160,  156,  152,  148,  143,  143,  130,  119,  116,  108,  107,   84,\n",
       "          84,   83,   74,   74,   61,   58,   57,   49,   44,   40,   28,   27,   27,   27,   26,\n",
       "          25,   24,   17,   16,   10], dtype=int64))"
      ]
     },
     "execution_count": 1104,
     "metadata": {},
     "output_type": "execute_result"
    }
   ],
   "source": [
    "states_count_sorted=np.argsort(-states_count)\n",
    "states_name[states_count_sorted],states_count[states_count_sorted]"
   ]
  },
  {
   "cell_type": "code",
   "execution_count": 1105,
   "id": "6ec33480-ff82-4c2d-ab3c-b3089ab395bc",
   "metadata": {},
   "outputs": [
    {
     "data": {
      "text/plain": [
       "array(['CA', 'NY', 'PA', ..., 'CA', 'OH', 'IL'], dtype='<U69')"
      ]
     },
     "execution_count": 1105,
     "metadata": {},
     "output_type": "execute_result"
    }
   ],
   "source": [
    "load_data_strings[:,5]=np.where(load_data_strings[:,5]=='',0,load_data_strings[:,5])\n",
    "load_data_strings[:,5]"
   ]
  },
  {
   "cell_type": "code",
   "execution_count": 1106,
   "id": "39a64bb7-697f-4cb6-b706-7110696326ac",
   "metadata": {},
   "outputs": [
    {
     "data": {
      "text/plain": [
       "array(['0', 'AK', 'AL', 'AR', 'AZ', 'CA', 'CO', 'CT', 'DC', 'DE', 'FL', 'GA', 'HI', 'IL', 'IN',\n",
       "       'KS', 'KY', 'LA', 'MA', 'MD', 'ME', 'MI', 'MN', 'MO', 'MS', 'MT', 'NC', 'ND', 'NE', 'NH',\n",
       "       'NJ', 'NM', 'NV', 'NY', 'OH', 'OK', 'OR', 'PA', 'RI', 'SC', 'SD', 'TN', 'TX', 'UT', 'VA',\n",
       "       'VT', 'WA', 'WI', 'WV', 'WY'], dtype='<U69')"
      ]
     },
     "execution_count": 1106,
     "metadata": {},
     "output_type": "execute_result"
    }
   ],
   "source": [
    "np.unique(load_data_strings[:,5])"
   ]
  },
  {
   "cell_type": "code",
   "execution_count": 1107,
   "id": "ef4d974e-6c7b-4e2b-b1f8-9f151a6a7fe6",
   "metadata": {},
   "outputs": [],
   "source": [
    "states_west = np.array(['WA', 'OR','CA','NV','ID','MT', 'WY','UT','CO', 'AZ','NM','HI','AK'])\n",
    "states_south = np.array(['TX','OK','AR','LA','MS','AL','TN','KY','FL','GA','SC','NC','VA','WV','MD','DE','DC'])\n",
    "states_midwest = np.array(['ND','SD','NE','KS','MN','IA','MO','WI','IL','IN','MI','OH'])\n",
    "states_east = np.array(['PA','NY','NJ','CT','MA','VT','NH','ME','RI'])"
   ]
  },
  {
   "cell_type": "code",
   "execution_count": 1108,
   "id": "54a5963e-bc7b-40de-bd9c-ba25cf555265",
   "metadata": {},
   "outputs": [],
   "source": [
    "load_data_strings[:,5] = np.where(np.isin(load_data_strings[:,5], states_west), 1, load_data_strings[:,5])\n",
    "load_data_strings[:,5] = np.where(np.isin(load_data_strings[:,5], states_south), 2, load_data_strings[:,5])\n",
    "load_data_strings[:,5] = np.where(np.isin(load_data_strings[:,5], states_midwest), 3, load_data_strings[:,5])\n",
    "load_data_strings[:,5] = np.where(np.isin(load_data_strings[:,5], states_east), 4, load_data_strings[:,5])"
   ]
  },
  {
   "cell_type": "code",
   "execution_count": 1109,
   "id": "b335ffcd-778a-4f4a-a73f-93a0edcf6937",
   "metadata": {},
   "outputs": [
    {
     "data": {
      "text/plain": [
       "array(['0', '1', '2', '3', '4'], dtype='<U69')"
      ]
     },
     "execution_count": 1109,
     "metadata": {},
     "output_type": "execute_result"
    }
   ],
   "source": [
    "np.unique(load_data_strings[:,5])"
   ]
  },
  {
   "cell_type": "markdown",
   "id": "ca945f2b-c9bc-434a-9c0b-0d8ca7759ab1",
   "metadata": {},
   "source": [
    "Converting Numbers"
   ]
  },
  {
   "cell_type": "code",
   "execution_count": 1111,
   "id": "07345b65-6ba9-4dfb-8443-7f2a491289b6",
   "metadata": {},
   "outputs": [
    {
     "data": {
      "text/plain": [
       "array([['5', '1', '36', '13', '1', '1'],\n",
       "       ['0', '1', '36', '5', '1', '4'],\n",
       "       ['9', '1', '36', '10', '1', '4'],\n",
       "       ...,\n",
       "       ['6', '1', '36', '5', '1', '1'],\n",
       "       ['4', '1', '36', '17', '1', '3'],\n",
       "       ['12', '1', '36', '4', '0', '3']], dtype='<U69')"
      ]
     },
     "execution_count": 1111,
     "metadata": {},
     "output_type": "execute_result"
    }
   ],
   "source": [
    "load_data_strings"
   ]
  },
  {
   "cell_type": "code",
   "execution_count": 1112,
   "id": "05c84aee-fccf-4dfd-b387-166bc8a80987",
   "metadata": {},
   "outputs": [],
   "source": [
    "load_data_strings=load_data_strings.astype(int)"
   ]
  },
  {
   "cell_type": "code",
   "execution_count": 1113,
   "id": "b02f5eb2-651f-4e7c-9e09-1f8040a3df23",
   "metadata": {},
   "outputs": [
    {
     "data": {
      "text/plain": [
       "array([[ 5,  1, 36, 13,  1,  1],\n",
       "       [ 0,  1, 36,  5,  1,  4],\n",
       "       [ 9,  1, 36, 10,  1,  4],\n",
       "       ...,\n",
       "       [ 6,  1, 36,  5,  1,  1],\n",
       "       [ 4,  1, 36, 17,  1,  3],\n",
       "       [12,  1, 36,  4,  0,  3]])"
      ]
     },
     "execution_count": 1113,
     "metadata": {},
     "output_type": "execute_result"
    }
   ],
   "source": [
    "load_data_strings"
   ]
  },
  {
   "cell_type": "markdown",
   "id": "5571ac4b-952c-4e36-be35-fecaf450b2e0",
   "metadata": {},
   "source": [
    "CheckPoint 1"
   ]
  },
  {
   "cell_type": "code",
   "execution_count": 1115,
   "id": "9892009d-e1bd-443b-8caa-e140bb8c88bf",
   "metadata": {},
   "outputs": [],
   "source": [
    "checkpoint_strings=checkpoint(\"checkpoint-strings\",header_string,load_data_strings)"
   ]
  },
  {
   "cell_type": "code",
   "execution_count": 1116,
   "id": "e495f828-2727-4ead-a0dd-90e8c35f0596",
   "metadata": {},
   "outputs": [
    {
     "data": {
      "text/plain": [
       "array(['Issue_date', 'loan_status', 'term_months', 'sub_grade', 'verification_status',\n",
       "       'addr_state'], dtype='<U19')"
      ]
     },
     "execution_count": 1116,
     "metadata": {},
     "output_type": "execute_result"
    }
   ],
   "source": [
    "checkpoint_strings['header']"
   ]
  },
  {
   "cell_type": "code",
   "execution_count": 1117,
   "id": "cf3e59c1-a13f-4f18-9244-2a0d0c947322",
   "metadata": {},
   "outputs": [
    {
     "data": {
      "text/plain": [
       "array([[ 5,  1, 36, 13,  1,  1],\n",
       "       [ 0,  1, 36,  5,  1,  4],\n",
       "       [ 9,  1, 36, 10,  1,  4],\n",
       "       ...,\n",
       "       [ 6,  1, 36,  5,  1,  1],\n",
       "       [ 4,  1, 36, 17,  1,  3],\n",
       "       [12,  1, 36,  4,  0,  3]])"
      ]
     },
     "execution_count": 1117,
     "metadata": {},
     "output_type": "execute_result"
    }
   ],
   "source": [
    "checkpoint_strings['data']"
   ]
  },
  {
   "cell_type": "code",
   "execution_count": 1118,
   "id": "dfcb0cba-c07e-4a67-82cd-c039d81e7123",
   "metadata": {},
   "outputs": [
    {
     "data": {
      "text/plain": [
       "True"
      ]
     },
     "execution_count": 1118,
     "metadata": {},
     "output_type": "execute_result"
    }
   ],
   "source": [
    "np.array_equal(checkpoint_strings['data'],load_data_strings)"
   ]
  },
  {
   "cell_type": "markdown",
   "id": "b989e6dc-bc6b-4799-9bd4-b5b77c251389",
   "metadata": {},
   "source": [
    "Transform Numeric Data "
   ]
  },
  {
   "cell_type": "code",
   "execution_count": 1120,
   "id": "14b95159-3673-42c0-9cc4-a2d70904f21e",
   "metadata": {},
   "outputs": [
    {
     "data": {
      "text/plain": [
       "array([[48010226.  ,    35000.  ,    35000.  ,       13.33,     1184.86,     9452.96],\n",
       "       [57693261.  ,    30000.  ,    30000.  , 68616520.  ,      938.57,     4679.7 ],\n",
       "       [59432726.  ,    15000.  ,    15000.  , 68616520.  ,      494.86,     1969.83],\n",
       "       ...,\n",
       "       [50415990.  ,    10000.  ,    10000.  , 68616520.  , 68616520.  ,     2185.64],\n",
       "       [46154151.  , 68616520.  ,    10000.  ,       16.55,      354.3 ,     3199.4 ],\n",
       "       [66055249.  ,    10000.  ,    10000.  , 68616520.  ,      309.97,      301.9 ]])"
      ]
     },
     "execution_count": 1120,
     "metadata": {},
     "output_type": "execute_result"
    }
   ],
   "source": [
    "load_data_numeric"
   ]
  },
  {
   "cell_type": "code",
   "execution_count": 1121,
   "id": "a56753d5-1a58-4c78-9f42-cdc8a4f3ac07",
   "metadata": {},
   "outputs": [
    {
     "data": {
      "text/plain": [
       "0"
      ]
     },
     "execution_count": 1121,
     "metadata": {},
     "output_type": "execute_result"
    }
   ],
   "source": [
    "np.isnan(load_data_numeric).sum()"
   ]
  },
  {
   "cell_type": "markdown",
   "id": "2e135b4f-d85c-4665-acb0-4cc881621114",
   "metadata": {},
   "source": [
    "Substituing filler values"
   ]
  },
  {
   "cell_type": "code",
   "execution_count": 1123,
   "id": "d792b173-edc6-4822-81af-9634e4b54aa2",
   "metadata": {},
   "outputs": [],
   "source": [
    "# When we imported the file intilally we filled all the missing values with temporary_fill we don't see any nan values \n",
    "# now in load_data_numeric so now we need to fill with proper values"
   ]
  },
  {
   "cell_type": "code",
   "execution_count": 1124,
   "id": "ec3eed88-1d4d-4b79-a804-ceec53e7cc28",
   "metadata": {},
   "outputs": [
    {
     "data": {
      "text/plain": [
       "array(['id', 'loan_amnt', 'funded_amnt', 'int_rate', 'installment', 'total_pymnt'], dtype='<U19')"
      ]
     },
     "execution_count": 1124,
     "metadata": {},
     "output_type": "execute_result"
    }
   ],
   "source": [
    "header_numeric"
   ]
  },
  {
   "cell_type": "code",
   "execution_count": 1125,
   "id": "082a8d37-f4c0-4537-94f0-dadb0bfdad2d",
   "metadata": {},
   "outputs": [
    {
     "data": {
      "text/plain": [
       "array([], shape=(0, 1), dtype=int64)"
      ]
     },
     "execution_count": 1125,
     "metadata": {},
     "output_type": "execute_result"
    }
   ],
   "source": [
    "np.argwhere(load_data_numeric[:,0]==temporary_fill)"
   ]
  },
  {
   "cell_type": "markdown",
   "id": "5c0ea3ba-905a-4f91-bff6-dbdb0cec4a72",
   "metadata": {},
   "source": [
    "ID"
   ]
  },
  {
   "cell_type": "code",
   "execution_count": 1127,
   "id": "3d98937a-6835-437b-b8c4-96b2cdfb895b",
   "metadata": {},
   "outputs": [
    {
     "data": {
      "text/plain": [
       "68616520.0"
      ]
     },
     "execution_count": 1127,
     "metadata": {},
     "output_type": "execute_result"
    }
   ],
   "source": [
    "temporary_fill"
   ]
  },
  {
   "cell_type": "code",
   "execution_count": 1128,
   "id": "fff43ffc-99c8-4c29-b3e0-e59fbe030757",
   "metadata": {},
   "outputs": [
    {
     "data": {
      "text/plain": [
       "0"
      ]
     },
     "execution_count": 1128,
     "metadata": {},
     "output_type": "execute_result"
    }
   ],
   "source": [
    "np.isin(load_data_numeric[:,0],temporary_fill).sum()"
   ]
  },
  {
   "cell_type": "markdown",
   "id": "e67e46a1-7b61-4008-9c91-09eb485aaff6",
   "metadata": {},
   "source": [
    "Temporary Stats"
   ]
  },
  {
   "cell_type": "code",
   "execution_count": 1130,
   "id": "fd5eb64c-cb23-4f06-b155-c872a9215b34",
   "metadata": {},
   "outputs": [
    {
     "data": {
      "text/plain": [
       "array([[  373332.  ,         nan,     1000.  ,         nan,     1000.  ,         nan,        6.  ,\n",
       "              31.42,         nan,         nan,         nan,         nan,         nan,        0.  ],\n",
       "       [54015809.19,         nan,    15273.46,         nan,    15311.04,         nan,       16.62,\n",
       "             440.92,         nan,         nan,         nan,         nan,         nan,     3143.85],\n",
       "       [68616519.  ,         nan,    35000.  ,         nan,    35000.  ,         nan,       28.99,\n",
       "            1372.97,         nan,         nan,         nan,         nan,         nan,    41913.62]])"
      ]
     },
     "execution_count": 1130,
     "metadata": {},
     "output_type": "execute_result"
    }
   ],
   "source": [
    "temporary_stats \n",
    "# temporary_stats=np.array([np.nanmin(raw_data_np,axis=0),\n",
    "                       # temporary_mean,\n",
    "                       # np.nanmax(raw_data_np,axis=0)]) \n",
    "# As we filled missing values with max_values (temperory fill) at the time of impoerting but\n",
    "# for funded_amount filling with max amount would create a -ve impact on all other values "
   ]
  },
  {
   "cell_type": "code",
   "execution_count": 1131,
   "id": "04d37da9-2274-47b4-bf52-1da2bd5c29ff",
   "metadata": {},
   "outputs": [
    {
     "data": {
      "text/plain": [
       "array([[  373332.  ,     1000.  ,     1000.  ,        6.  ,       31.42,        0.  ],\n",
       "       [54015809.19,    15273.46,    15311.04,       16.62,      440.92,     3143.85],\n",
       "       [68616519.  ,    35000.  ,    35000.  ,       28.99,     1372.97,    41913.62]])"
      ]
     },
     "execution_count": 1131,
     "metadata": {},
     "output_type": "execute_result"
    }
   ],
   "source": [
    "temporary_stats[:,column_numeric]"
   ]
  },
  {
   "cell_type": "markdown",
   "id": "e432f8f7-184c-4e79-ad6b-f2815ad9d51f",
   "metadata": {},
   "source": [
    "Funded Amount"
   ]
  },
  {
   "cell_type": "code",
   "execution_count": 1133,
   "id": "61970831-2106-42d5-81e5-a952def3a5ef",
   "metadata": {},
   "outputs": [
    {
     "data": {
      "text/plain": [
       "array([35000., 30000., 15000., ..., 10000., 10000., 10000.])"
      ]
     },
     "execution_count": 1133,
     "metadata": {},
     "output_type": "execute_result"
    }
   ],
   "source": [
    "load_data_numeric[:,2]"
   ]
  },
  {
   "cell_type": "code",
   "execution_count": 1134,
   "id": "c5749cd6-1cf9-486a-918f-0862bd26685d",
   "metadata": {},
   "outputs": [
    {
     "data": {
      "text/plain": [
       "array([35000., 30000., 15000., ..., 10000., 10000., 10000.])"
      ]
     },
     "execution_count": 1134,
     "metadata": {},
     "output_type": "execute_result"
    }
   ],
   "source": [
    "load_data_numeric[:,2]=np.where(load_data_numeric[:,2] == temporary_fill,\n",
    "         temporary_stats[0,column_numeric[2]],\n",
    "         load_data_numeric[:,2])\n",
    "load_data_numeric[:,2]"
   ]
  },
  {
   "cell_type": "code",
   "execution_count": 1135,
   "id": "39e1e66d-1887-4010-97b2-ea6c785dafac",
   "metadata": {},
   "outputs": [
    {
     "data": {
      "text/plain": [
       "nan"
      ]
     },
     "execution_count": 1135,
     "metadata": {},
     "output_type": "execute_result"
    }
   ],
   "source": [
    "temporary_stats[0,3]"
   ]
  },
  {
   "cell_type": "code",
   "execution_count": 1136,
   "id": "21bc874e-6d30-43d2-8f3c-b7059e4ad428",
   "metadata": {},
   "outputs": [
    {
     "data": {
      "text/plain": [
       "6.0"
      ]
     },
     "execution_count": 1136,
     "metadata": {},
     "output_type": "execute_result"
    }
   ],
   "source": [
    "temporary_stats[0,column_numeric[3]]"
   ]
  },
  {
   "cell_type": "code",
   "execution_count": 1137,
   "id": "2cba5298-b34b-48ad-8a1f-4a17996a229d",
   "metadata": {},
   "outputs": [
    {
     "data": {
      "text/plain": [
       "array([ 0,  2,  4,  6,  7, 13], dtype=int64)"
      ]
     },
     "execution_count": 1137,
     "metadata": {},
     "output_type": "execute_result"
    }
   ],
   "source": [
    "column_numeric"
   ]
  },
  {
   "cell_type": "markdown",
   "id": "b5f092da-d39b-48ff-a0bd-c9540599e164",
   "metadata": {},
   "source": [
    "Loaded Amount,Interest Rate,Total Payment,Installment"
   ]
  },
  {
   "cell_type": "code",
   "execution_count": 1139,
   "id": "b50d60e7-3bc3-43d0-aeea-78043cacee68",
   "metadata": {},
   "outputs": [
    {
     "data": {
      "text/plain": [
       "array(['id', 'loan_amnt', 'funded_amnt', 'int_rate', 'installment', 'total_pymnt'], dtype='<U19')"
      ]
     },
     "execution_count": 1139,
     "metadata": {},
     "output_type": "execute_result"
    }
   ],
   "source": [
    "header_numeric"
   ]
  },
  {
   "cell_type": "code",
   "execution_count": 1140,
   "id": "3c122452-3508-4473-b92a-b02ccd181fe3",
   "metadata": {},
   "outputs": [],
   "source": [
    "for i in [1,3,4,5]:\n",
    "    load_data_numeric[:,i]=np.where(load_data_numeric[:,i] == temporary_fill,\n",
    "             temporary_stats[2,column_numeric[i]],\n",
    "             load_data_numeric[:,i])"
   ]
  },
  {
   "cell_type": "code",
   "execution_count": 1141,
   "id": "8ca2e322-70da-4456-8520-333daae693fd",
   "metadata": {},
   "outputs": [
    {
     "data": {
      "text/plain": [
       "array([[48010226.  ,    35000.  ,    35000.  ,       13.33,     1184.86,     9452.96],\n",
       "       [57693261.  ,    30000.  ,    30000.  ,       28.99,      938.57,     4679.7 ],\n",
       "       [59432726.  ,    15000.  ,    15000.  ,       28.99,      494.86,     1969.83],\n",
       "       ...,\n",
       "       [50415990.  ,    10000.  ,    10000.  ,       28.99,     1372.97,     2185.64],\n",
       "       [46154151.  ,    35000.  ,    10000.  ,       16.55,      354.3 ,     3199.4 ],\n",
       "       [66055249.  ,    10000.  ,    10000.  ,       28.99,      309.97,      301.9 ]])"
      ]
     },
     "execution_count": 1141,
     "metadata": {},
     "output_type": "execute_result"
    }
   ],
   "source": [
    "load_data_numeric"
   ]
  },
  {
   "cell_type": "markdown",
   "id": "ae024b93-123d-47d8-9a3b-f6f03d9e21ea",
   "metadata": {},
   "source": [
    "Currency Change"
   ]
  },
  {
   "cell_type": "code",
   "execution_count": 1143,
   "id": "4247cf95-8259-4f45-a73e-68c50f890b59",
   "metadata": {},
   "outputs": [
    {
     "data": {
      "text/plain": [
       "array([1.13, 1.12, 1.08, 1.11, 1.1 , 1.12, 1.09, 1.13, 1.13, 1.1 , 1.06, 1.09])"
      ]
     },
     "execution_count": 1143,
     "metadata": {},
     "output_type": "execute_result"
    }
   ],
   "source": [
    "Eur_usd=np.genfromtxt('EUR-USD.csv',delimiter=\",\",autostrip=True,skip_header=1,usecols=3)\n",
    "Eur_usd\n",
    "# we only need column 3 from Eur-USD.csv since we only need closing exchange price "
   ]
  },
  {
   "cell_type": "code",
   "execution_count": 1144,
   "id": "4419ecaa-7992-4630-aa20-6d95a28f444d",
   "metadata": {},
   "outputs": [
    {
     "data": {
      "text/plain": [
       "array([ 5,  0,  9, ...,  6,  4, 12])"
      ]
     },
     "execution_count": 1144,
     "metadata": {},
     "output_type": "execute_result"
    }
   ],
   "source": [
    "load_data_strings[:,0]"
   ]
  },
  {
   "cell_type": "code",
   "execution_count": 1145,
   "id": "f002089d-9b27-4735-9e3f-c01d0b364b18",
   "metadata": {},
   "outputs": [
    {
     "data": {
      "text/plain": [
       "array(['Issue_date', 'loan_status', 'term_months', 'sub_grade', 'verification_status',\n",
       "       'addr_state'], dtype='<U19')"
      ]
     },
     "execution_count": 1145,
     "metadata": {},
     "output_type": "execute_result"
    }
   ],
   "source": [
    "header_string"
   ]
  },
  {
   "cell_type": "code",
   "execution_count": 1146,
   "id": "42160583-370f-48f0-a4c6-f0bc45ea991f",
   "metadata": {},
   "outputs": [],
   "source": [
    "exchange_rate=load_data_strings[:,0]\n",
    "for i in range(1,13):\n",
    "    exchange_rate = np.where(exchange_rate == i,\n",
    "                    Eur_usd[i-1],\n",
    "                   exchange_rate)\n",
    "# Creating a new array of exchange rate, First set the array equal to load_data_strings[:,0] since this \n",
    "# column has all month numbers then create a for loop to assign exchange rate by each month from Euro_usd object"
   ]
  },
  {
   "cell_type": "code",
   "execution_count": 1147,
   "id": "a9b5104c-1507-432b-afcd-c359ff1e78a7",
   "metadata": {},
   "outputs": [
    {
     "data": {
      "text/plain": [
       "array([0.  , 1.06, 1.08, 1.09, 1.09, 1.1 , 1.1 , 1.11, 1.12, 1.12, 1.13, 1.13, 1.13])"
      ]
     },
     "execution_count": 1147,
     "metadata": {},
     "output_type": "execute_result"
    }
   ],
   "source": [
    "np.unique(exchange_rate)\n",
    "# since still there are 0's in the exchange rate so substitute all the zero by mean of the column"
   ]
  },
  {
   "cell_type": "code",
   "execution_count": 1148,
   "id": "9d960326-c155-4fd8-ba60-7f0cda135301",
   "metadata": {},
   "outputs": [
    {
     "data": {
      "text/plain": [
       "array([1.1 , 1.11, 1.13, ..., 1.12, 1.11, 1.09])"
      ]
     },
     "execution_count": 1148,
     "metadata": {},
     "output_type": "execute_result"
    }
   ],
   "source": [
    "exchange_rate=np.where(exchange_rate == 0,\n",
    "                    np.mean(Eur_usd),\n",
    "                   exchange_rate)\n",
    "exchange_rate"
   ]
  },
  {
   "cell_type": "code",
   "execution_count": 1149,
   "id": "72310683-ff26-4f51-8e0f-50d24da59d9c",
   "metadata": {},
   "outputs": [
    {
     "data": {
      "text/plain": [
       "array([1.06, 1.08, 1.09, 1.09, 1.1 , 1.1 , 1.11, 1.11, 1.12, 1.12, 1.13, 1.13, 1.13])"
      ]
     },
     "execution_count": 1149,
     "metadata": {},
     "output_type": "execute_result"
    }
   ],
   "source": [
    "np.unique(exchange_rate)"
   ]
  },
  {
   "cell_type": "code",
   "execution_count": 1150,
   "id": "b3c541ca-3bd9-4729-880d-59413fb05880",
   "metadata": {},
   "outputs": [],
   "source": [
    "# adding exchange_rate to load_data_numeric"
   ]
  },
  {
   "cell_type": "code",
   "execution_count": 1151,
   "id": "d401cfaf-4f06-4648-b42f-58ad3d031426",
   "metadata": {},
   "outputs": [
    {
     "data": {
      "text/plain": [
       "(10000,)"
      ]
     },
     "execution_count": 1151,
     "metadata": {},
     "output_type": "execute_result"
    }
   ],
   "source": [
    "exchange_rate.shape"
   ]
  },
  {
   "cell_type": "code",
   "execution_count": 1152,
   "id": "83ef2271-0bf6-483f-a062-b6dd3f07c039",
   "metadata": {},
   "outputs": [
    {
     "data": {
      "text/plain": [
       "(10000, 6)"
      ]
     },
     "execution_count": 1152,
     "metadata": {},
     "output_type": "execute_result"
    }
   ],
   "source": [
    "load_data_numeric.shape"
   ]
  },
  {
   "cell_type": "code",
   "execution_count": 1153,
   "id": "ebc84c89-48a2-4c43-999b-1c25b8d7ad25",
   "metadata": {},
   "outputs": [],
   "source": [
    "#since exchange_rate and load_data_numeric are not same in shape we need to shape uniformly first\n",
    "exchange_rate=np.reshape(exchange_rate,(10000,1))"
   ]
  },
  {
   "cell_type": "code",
   "execution_count": 1154,
   "id": "f8901a15-24a5-4ecc-a3aa-ad2b29f2958d",
   "metadata": {},
   "outputs": [],
   "source": [
    "load_data_numeric=np.hstack((load_data_numeric,exchange_rate))"
   ]
  },
  {
   "cell_type": "code",
   "execution_count": 1155,
   "id": "36c11d35-9157-4769-af1d-f641656e3a75",
   "metadata": {},
   "outputs": [
    {
     "data": {
      "text/plain": [
       "array(['id', 'loan_amnt', 'funded_amnt', 'int_rate', 'installment', 'total_pymnt', 'exchange_rate'],\n",
       "      dtype='<U19')"
      ]
     },
     "execution_count": 1155,
     "metadata": {},
     "output_type": "execute_result"
    }
   ],
   "source": [
    "header_numeric=np.concatenate((header_numeric,np.array(['exchange_rate'])))\n",
    "header_numeric\n",
    "# As we added a new column to load_data_numeric we should also add a new value to header_numeric "
   ]
  },
  {
   "cell_type": "markdown",
   "id": "7ca395b7-b130-4e7e-bdf6-b2b325b71ef3",
   "metadata": {},
   "source": [
    "Converting USD to Eur"
   ]
  },
  {
   "cell_type": "code",
   "execution_count": 1157,
   "id": "f0fdcb58-9844-4e43-9ebf-a400985a190c",
   "metadata": {},
   "outputs": [
    {
     "data": {
      "text/plain": [
       "array(['id', 'loan_amnt', 'funded_amnt', 'int_rate', 'installment', 'total_pymnt', 'exchange_rate'],\n",
       "      dtype='<U19')"
      ]
     },
     "execution_count": 1157,
     "metadata": {},
     "output_type": "execute_result"
    }
   ],
   "source": [
    "header_numeric"
   ]
  },
  {
   "cell_type": "code",
   "execution_count": 1158,
   "id": "e0a9537b-74fd-487b-8f80-84bc5beec0fc",
   "metadata": {},
   "outputs": [
    {
     "data": {
      "text/plain": [
       "array([1, 2, 4, 5])"
      ]
     },
     "execution_count": 1158,
     "metadata": {},
     "output_type": "execute_result"
    }
   ],
   "source": [
    "columns_dollar=np.array([1,2,4,5])\n",
    "columns_dollar"
   ]
  },
  {
   "cell_type": "code",
   "execution_count": 1159,
   "id": "960cb275-d8f4-4a85-b9d3-69e5b4788a09",
   "metadata": {},
   "outputs": [
    {
     "data": {
      "text/plain": [
       "array([[[35000.  , 35000.  ,  1184.86,  9452.96]],\n",
       "\n",
       "       [[30000.  , 30000.  ,   938.57,  4679.7 ]],\n",
       "\n",
       "       [[15000.  , 15000.  ,   494.86,  1969.83]],\n",
       "\n",
       "       ...,\n",
       "\n",
       "       [[10000.  , 10000.  ,  1372.97,  2185.64]],\n",
       "\n",
       "       [[35000.  , 10000.  ,   354.3 ,  3199.4 ]],\n",
       "\n",
       "       [[10000.  , 10000.  ,   309.97,   301.9 ]]])"
      ]
     },
     "execution_count": 1159,
     "metadata": {},
     "output_type": "execute_result"
    }
   ],
   "source": [
    "load_data_numeric[:,[columns_dollar]]"
   ]
  },
  {
   "cell_type": "code",
   "execution_count": 1160,
   "id": "92b4fc11-8039-455d-8015-04b107b991aa",
   "metadata": {},
   "outputs": [
    {
     "data": {
      "text/plain": [
       "(10000, 7)"
      ]
     },
     "execution_count": 1160,
     "metadata": {},
     "output_type": "execute_result"
    }
   ],
   "source": [
    "load_data_numeric.shape"
   ]
  },
  {
   "cell_type": "code",
   "execution_count": 1161,
   "id": "9516a40a-8653-4f74-926a-d5fd4ddaff13",
   "metadata": {},
   "outputs": [],
   "source": [
    "for i in columns_dollar:\n",
    "    load_data_numeric = np.hstack((load_data_numeric, np.reshape(load_data_numeric[:,i] / load_data_numeric[:,6], (10000,1))))"
   ]
  },
  {
   "cell_type": "code",
   "execution_count": 1162,
   "id": "46b09389-dfc7-41a6-ab4a-3ecd86f66c70",
   "metadata": {},
   "outputs": [
    {
     "data": {
      "text/plain": [
       "array([[48010226.  ,    35000.  ,    35000.  , ...,    31933.3 ,     1081.04,     8624.69],\n",
       "       [57693261.  ,    30000.  ,    30000.  , ...,    27132.46,      848.86,     4232.39],\n",
       "       [59432726.  ,    15000.  ,    15000.  , ...,    13326.3 ,      439.64,     1750.04],\n",
       "       ...,\n",
       "       [50415990.  ,    10000.  ,    10000.  , ...,     8910.3 ,     1223.36,     1947.47],\n",
       "       [46154151.  ,    35000.  ,    10000.  , ...,     8997.4 ,      318.78,     2878.63],\n",
       "       [66055249.  ,    10000.  ,    10000.  , ...,     9145.8 ,      283.49,      276.11]])"
      ]
     },
     "execution_count": 1162,
     "metadata": {},
     "output_type": "execute_result"
    }
   ],
   "source": [
    " load_data_numeric"
   ]
  },
  {
   "cell_type": "markdown",
   "id": "e1ac383a-cd2a-4fab-9cc0-1d6787020186",
   "metadata": {},
   "source": [
    "Expanding the header"
   ]
  },
  {
   "cell_type": "code",
   "execution_count": 1164,
   "id": "038458a9-8ec5-4866-932c-fcec5749c031",
   "metadata": {},
   "outputs": [],
   "source": [
    "header_additional=np.array([column_name+\"_EUR\" for column_name in header_numeric[columns_dollar]])\n",
    "# as we added new columns the EUR conversion columns to load_data_numeric we need to add new column names to header_numeric"
   ]
  },
  {
   "cell_type": "code",
   "execution_count": 1165,
   "id": "47c1eacf-cf0f-426e-a29a-9ad2f8bafeec",
   "metadata": {},
   "outputs": [
    {
     "data": {
      "text/plain": [
       "(7,)"
      ]
     },
     "execution_count": 1165,
     "metadata": {},
     "output_type": "execute_result"
    }
   ],
   "source": [
    "header_numeric.shape"
   ]
  },
  {
   "cell_type": "code",
   "execution_count": 1166,
   "id": "16572f9b-59d2-4371-b031-2f3eee59ece5",
   "metadata": {},
   "outputs": [
    {
     "data": {
      "text/plain": [
       "array(['id', 'loan_amnt', 'funded_amnt', 'int_rate', 'installment', 'total_pymnt', 'exchange_rate',\n",
       "       'loan_amnt_EUR', 'funded_amnt_EUR', 'installment_EUR', 'total_pymnt_EUR'], dtype='<U19')"
      ]
     },
     "execution_count": 1166,
     "metadata": {},
     "output_type": "execute_result"
    }
   ],
   "source": [
    "header_numeric=np.concatenate((header_numeric,header_additional))\n",
    "header_numeric"
   ]
  },
  {
   "cell_type": "code",
   "execution_count": 1167,
   "id": "50efceef-b276-4c18-b71c-d74cf9a05a8f",
   "metadata": {},
   "outputs": [
    {
     "data": {
      "text/plain": [
       "array(['id', 'loan_amnt', 'funded_amnt', 'int_rate', 'installment', 'total_pymnt', 'exchange_rate',\n",
       "       'loan_amnt_EUR', 'funded_amnt_EUR', 'installment_EUR', 'total_pymnt_EUR'], dtype='<U19')"
      ]
     },
     "execution_count": 1167,
     "metadata": {},
     "output_type": "execute_result"
    }
   ],
   "source": [
    "header_numeric"
   ]
  },
  {
   "cell_type": "code",
   "execution_count": 1168,
   "id": "898c0cb1-7bf2-4d1f-9be2-e226467fa3e0",
   "metadata": {},
   "outputs": [
    {
     "data": {
      "text/plain": [
       "array([ 0,  2,  4,  6,  7, 13], dtype=int64)"
      ]
     },
     "execution_count": 1168,
     "metadata": {},
     "output_type": "execute_result"
    }
   ],
   "source": [
    "column_numeric"
   ]
  },
  {
   "cell_type": "code",
   "execution_count": 1169,
   "id": "cefaa22f-fe54-4df9-94d9-98da98fce9a6",
   "metadata": {},
   "outputs": [
    {
     "data": {
      "text/plain": [
       "array(['loan_amnt', 'funded_amnt', 'installment', 'total_pymnt'], dtype='<U19')"
      ]
     },
     "execution_count": 1169,
     "metadata": {},
     "output_type": "execute_result"
    }
   ],
   "source": [
    "header_numeric[columns_dollar]\n",
    "# add _USD to column names that are in USD"
   ]
  },
  {
   "cell_type": "code",
   "execution_count": 1170,
   "id": "97253424-0eae-4053-bbf5-3a075e5baf70",
   "metadata": {},
   "outputs": [],
   "source": [
    "header_numeric[columns_dollar]=np.array([column_name+\"_USD\" for column_name in header_numeric[columns_dollar]])"
   ]
  },
  {
   "cell_type": "code",
   "execution_count": 1171,
   "id": "161b2c87-0948-4fa6-8d25-c5a8bcfe5cef",
   "metadata": {},
   "outputs": [
    {
     "data": {
      "text/plain": [
       "array(['loan_amnt_USD', 'funded_amnt_USD', 'installment_USD', 'total_pymnt_USD'], dtype='<U19')"
      ]
     },
     "execution_count": 1171,
     "metadata": {},
     "output_type": "execute_result"
    }
   ],
   "source": [
    "header_numeric[columns_dollar]"
   ]
  },
  {
   "cell_type": "code",
   "execution_count": 1172,
   "id": "13c9b1b8-b691-4050-9a4f-326a8e803790",
   "metadata": {},
   "outputs": [
    {
     "data": {
      "text/plain": [
       "array(['id', 'loan_amnt_USD', 'funded_amnt_USD', 'int_rate', 'installment_USD', 'total_pymnt_USD',\n",
       "       'exchange_rate', 'loan_amnt_EUR', 'funded_amnt_EUR', 'installment_EUR', 'total_pymnt_EUR'],\n",
       "      dtype='<U19')"
      ]
     },
     "execution_count": 1172,
     "metadata": {},
     "output_type": "execute_result"
    }
   ],
   "source": [
    "header_numeric"
   ]
  },
  {
   "cell_type": "code",
   "execution_count": 1173,
   "id": "fb296594-20ac-44f3-bcf8-231187f84e1a",
   "metadata": {},
   "outputs": [],
   "source": [
    "# Rearranging column names with USD and EUR counterparts side by side\n",
    "column_index_order=[0,1,7,2,8,3,4,9,5,10,6]"
   ]
  },
  {
   "cell_type": "code",
   "execution_count": 1174,
   "id": "f3cf7191-44fd-4903-8b76-71671f11d6ef",
   "metadata": {},
   "outputs": [],
   "source": [
    "header_numeric=header_numeric[column_index_order]"
   ]
  },
  {
   "cell_type": "code",
   "execution_count": 1175,
   "id": "dddd77c3-b3c4-454a-80d2-17e8b5af22f7",
   "metadata": {},
   "outputs": [
    {
     "data": {
      "text/plain": [
       "array(['id', 'loan_amnt_USD', 'loan_amnt_EUR', 'funded_amnt_USD', 'funded_amnt_EUR', 'int_rate',\n",
       "       'installment_USD', 'installment_EUR', 'total_pymnt_USD', 'total_pymnt_EUR', 'exchange_rate'],\n",
       "      dtype='<U19')"
      ]
     },
     "execution_count": 1175,
     "metadata": {},
     "output_type": "execute_result"
    }
   ],
   "source": [
    "header_numeric"
   ]
  },
  {
   "cell_type": "code",
   "execution_count": 987,
   "id": "b46649d3-f2d3-4108-85e5-110babc436a3",
   "metadata": {},
   "outputs": [
    {
     "data": {
      "text/plain": [
       "array([[48010226.  ,    35000.  ,    35000.  , ...,    31933.3 ,     1081.04,     8624.69],\n",
       "       [57693261.  ,    30000.  ,    30000.  , ...,    27132.46,      848.86,     4232.39],\n",
       "       [59432726.  ,    15000.  ,    15000.  , ...,    13326.3 ,      439.64,     1750.04],\n",
       "       ...,\n",
       "       [50415990.  ,    10000.  ,    10000.  , ...,     8910.3 ,     1223.36,     1947.47],\n",
       "       [46154151.  ,    35000.  ,    10000.  , ...,     8997.4 ,      318.78,     2878.63],\n",
       "       [66055249.  ,    10000.  ,    10000.  , ...,     9145.8 ,      283.49,      276.11]])"
      ]
     },
     "execution_count": 987,
     "metadata": {},
     "output_type": "execute_result"
    }
   ],
   "source": [
    "load_data_numeric\n",
    "# now that we changed column indexes in header_numeric now we need to chnage the column indexes in load_data_numeric also accordigly"
   ]
  },
  {
   "cell_type": "code",
   "execution_count": 1325,
   "id": "5f954c5e-bf8f-470e-9d1f-3aa01bd72d7e",
   "metadata": {},
   "outputs": [],
   "source": [
    "load_data_numeric=load_data_numeric[:,column_index_order]"
   ]
  },
  {
   "cell_type": "code",
   "execution_count": 1327,
   "id": "f8dd345f-d2d8-43c9-81cf-6dc650cf663a",
   "metadata": {},
   "outputs": [
    {
     "data": {
      "text/plain": [
       "array([[48010226.  ,    35000.  ,    31933.3 , ...,     9452.96,     8624.69,        1.1 ],\n",
       "       [57693261.  ,    30000.  ,    27132.46, ...,     4679.7 ,     4232.39,        1.11],\n",
       "       [59432726.  ,    15000.  ,    13326.3 , ...,     1969.83,     1750.04,        1.13],\n",
       "       ...,\n",
       "       [50415990.  ,    10000.  ,     8910.3 , ...,     2185.64,     1947.47,        1.12],\n",
       "       [46154151.  ,    35000.  ,    31490.9 , ...,     3199.4 ,     2878.63,        1.11],\n",
       "       [66055249.  ,    10000.  ,     9145.8 , ...,      301.9 ,      276.11,        1.09]])"
      ]
     },
     "execution_count": 1327,
     "metadata": {},
     "output_type": "execute_result"
    }
   ],
   "source": [
    "load_data_numeric"
   ]
  },
  {
   "cell_type": "markdown",
   "id": "ab44f992-eacc-4da4-8c72-314031cd6b52",
   "metadata": {},
   "source": [
    "Interest Rate"
   ]
  },
  {
   "cell_type": "code",
   "execution_count": 1329,
   "id": "0642deea-5465-4b20-819d-d1e061c167ab",
   "metadata": {},
   "outputs": [
    {
     "data": {
      "text/plain": [
       "array(['id', 'loan_amnt_USD', 'loan_amnt_EUR', 'funded_amnt_USD', 'funded_amnt_EUR', 'int_rate',\n",
       "       'installment_USD', 'installment_EUR', 'total_pymnt_USD', 'total_pymnt_EUR', 'exchange_rate'],\n",
       "      dtype='<U19')"
      ]
     },
     "execution_count": 1329,
     "metadata": {},
     "output_type": "execute_result"
    }
   ],
   "source": [
    "header_numeric"
   ]
  },
  {
   "cell_type": "code",
   "execution_count": 1331,
   "id": "dd7bae5c-2d85-4428-add8-6e200347fbb7",
   "metadata": {},
   "outputs": [
    {
     "data": {
      "text/plain": [
       "array([13.33, 28.99, 28.99, ..., 28.99, 16.55, 28.99])"
      ]
     },
     "execution_count": 1331,
     "metadata": {},
     "output_type": "execute_result"
    }
   ],
   "source": [
    "load_data_numeric[:,5]\n",
    "# since the intertest rates are stored in %'s in original column it is of best practice to convert them to decimal"
   ]
  },
  {
   "cell_type": "code",
   "execution_count": 1335,
   "id": "b9e1479a-e37c-4838-add7-cf14baf7abfa",
   "metadata": {},
   "outputs": [],
   "source": [
    "load_data_numeric[:,5]=load_data_numeric[:,5]/100"
   ]
  },
  {
   "cell_type": "code",
   "execution_count": 1337,
   "id": "6ab8a2a0-7909-48ef-9024-078082f8e16c",
   "metadata": {},
   "outputs": [
    {
     "data": {
      "text/plain": [
       "array([0.13, 0.29, 0.29, ..., 0.29, 0.17, 0.29])"
      ]
     },
     "execution_count": 1337,
     "metadata": {},
     "output_type": "execute_result"
    }
   ],
   "source": [
    "load_data_numeric[:,5]"
   ]
  },
  {
   "cell_type": "markdown",
   "id": "cbbac7b5-f7e4-4bb9-ad81-9fd8639cc088",
   "metadata": {},
   "source": [
    "Checkpoint 2: Numeric"
   ]
  },
  {
   "cell_type": "code",
   "execution_count": 1340,
   "id": "977659dc-a2ca-44fa-9c63-f8b62e5d6f8e",
   "metadata": {},
   "outputs": [],
   "source": [
    "checkpoint_numeric=checkpoint('Checkpoint-Numeric',header_numeric,load_data_numeric)\n",
    "# Now that we processed load_data_numeric we create a npz file before further processing"
   ]
  },
  {
   "cell_type": "code",
   "execution_count": 1342,
   "id": "9a0b66d4-83ca-43e7-afcd-20b55de8b212",
   "metadata": {},
   "outputs": [
    {
     "data": {
      "text/plain": [
       "(array(['id', 'loan_amnt_USD', 'loan_amnt_EUR', 'funded_amnt_USD', 'funded_amnt_EUR', 'int_rate',\n",
       "        'installment_USD', 'installment_EUR', 'total_pymnt_USD', 'total_pymnt_EUR', 'exchange_rate'],\n",
       "       dtype='<U19'),\n",
       " array([[48010226.  ,    35000.  ,    31933.3 , ...,     9452.96,     8624.69,        1.1 ],\n",
       "        [57693261.  ,    30000.  ,    27132.46, ...,     4679.7 ,     4232.39,        1.11],\n",
       "        [59432726.  ,    15000.  ,    13326.3 , ...,     1969.83,     1750.04,        1.13],\n",
       "        ...,\n",
       "        [50415990.  ,    10000.  ,     8910.3 , ...,     2185.64,     1947.47,        1.12],\n",
       "        [46154151.  ,    35000.  ,    31490.9 , ...,     3199.4 ,     2878.63,        1.11],\n",
       "        [66055249.  ,    10000.  ,     9145.8 , ...,      301.9 ,      276.11,        1.09]]))"
      ]
     },
     "execution_count": 1342,
     "metadata": {},
     "output_type": "execute_result"
    }
   ],
   "source": [
    "checkpoint_numeric['header'],checkpoint_numeric['data']"
   ]
  },
  {
   "cell_type": "markdown",
   "id": "5d0e7796-c78d-4a1a-ad4b-2bda0791f789",
   "metadata": {},
   "source": [
    "Creating the Dataset"
   ]
  },
  {
   "cell_type": "code",
   "execution_count": 1344,
   "id": "c8625b11-8993-4df0-ac1e-918b7e27bf1e",
   "metadata": {},
   "outputs": [
    {
     "data": {
      "text/plain": [
       "(10000, 6)"
      ]
     },
     "execution_count": 1344,
     "metadata": {},
     "output_type": "execute_result"
    }
   ],
   "source": [
    "checkpoint_strings['data'].shape"
   ]
  },
  {
   "cell_type": "code",
   "execution_count": 1346,
   "id": "6f3a8dac-8afe-44b6-b876-500a53e9ce87",
   "metadata": {},
   "outputs": [
    {
     "data": {
      "text/plain": [
       "(10000, 11)"
      ]
     },
     "execution_count": 1346,
     "metadata": {},
     "output_type": "execute_result"
    }
   ],
   "source": [
    "checkpoint_numeric['data'].shape"
   ]
  },
  {
   "cell_type": "code",
   "execution_count": 1352,
   "id": "847c7db4-1d85-4b44-838e-7a610a2b3f67",
   "metadata": {},
   "outputs": [],
   "source": [
    "loan_data=np.hstack((checkpoint_numeric['data'],checkpoint_strings['data']))"
   ]
  },
  {
   "cell_type": "code",
   "execution_count": 1354,
   "id": "f1944e01-469c-46e0-a678-7f28cfa074e5",
   "metadata": {},
   "outputs": [
    {
     "data": {
      "text/plain": [
       "array([[48010226.  ,    35000.  ,    31933.3 , ...,       13.  ,        1.  ,        1.  ],\n",
       "       [57693261.  ,    30000.  ,    27132.46, ...,        5.  ,        1.  ,        4.  ],\n",
       "       [59432726.  ,    15000.  ,    13326.3 , ...,       10.  ,        1.  ,        4.  ],\n",
       "       ...,\n",
       "       [50415990.  ,    10000.  ,     8910.3 , ...,        5.  ,        1.  ,        1.  ],\n",
       "       [46154151.  ,    35000.  ,    31490.9 , ...,       17.  ,        1.  ,        3.  ],\n",
       "       [66055249.  ,    10000.  ,     9145.8 , ...,        4.  ,        0.  ,        3.  ]])"
      ]
     },
     "execution_count": 1354,
     "metadata": {},
     "output_type": "execute_result"
    }
   ],
   "source": [
    "loan_data"
   ]
  },
  {
   "cell_type": "code",
   "execution_count": 1358,
   "id": "91f49fd3-f391-4d7c-99a3-f4cb0a5c0790",
   "metadata": {},
   "outputs": [
    {
     "data": {
      "text/plain": [
       "0"
      ]
     },
     "execution_count": 1358,
     "metadata": {},
     "output_type": "execute_result"
    }
   ],
   "source": [
    "np.isnan(loan_data).sum()"
   ]
  },
  {
   "cell_type": "code",
   "execution_count": 1362,
   "id": "87ac84b7-d62d-490a-9b50-ffa4ef78c8cc",
   "metadata": {},
   "outputs": [],
   "source": [
    "header_full=np.concatenate((checkpoint_numeric['header'],checkpoint_strings['header']))"
   ]
  },
  {
   "cell_type": "code",
   "execution_count": 1369,
   "id": "b8e13c71-8a3e-4bb2-bae1-a377e08d8fb6",
   "metadata": {},
   "outputs": [
    {
     "data": {
      "text/plain": [
       "array(['id', 'loan_amnt_USD', 'loan_amnt_EUR', 'funded_amnt_USD', 'funded_amnt_EUR', 'int_rate',\n",
       "       'installment_USD', 'installment_EUR', 'total_pymnt_USD', 'total_pymnt_EUR', 'exchange_rate',\n",
       "       'Issue_date', 'loan_status', 'term_months', 'sub_grade', 'verification_status',\n",
       "       'addr_state'], dtype='<U19')"
      ]
     },
     "execution_count": 1369,
     "metadata": {},
     "output_type": "execute_result"
    }
   ],
   "source": [
    "header_full"
   ]
  },
  {
   "cell_type": "markdown",
   "id": "7b6a518f-fc94-4cee-ae2e-a376f8972116",
   "metadata": {},
   "source": [
    "Sorting the New Dataset"
   ]
  },
  {
   "cell_type": "code",
   "execution_count": 1371,
   "id": "e4105571-67dc-41fb-8aae-ea9d46c0ca5e",
   "metadata": {},
   "outputs": [
    {
     "data": {
      "text/plain": [
       "array([48010226., 57693261., 59432726., ..., 50415990., 46154151., 66055249.])"
      ]
     },
     "execution_count": 1371,
     "metadata": {},
     "output_type": "execute_result"
    }
   ],
   "source": [
    "loan_data[:,0]\n",
    "# sort the array by using indices by using argsort and passing it to loan_data"
   ]
  },
  {
   "cell_type": "code",
   "execution_count": 1383,
   "id": "cf82b398-8b1a-493a-a370-50c59ad0ac85",
   "metadata": {},
   "outputs": [],
   "source": [
    "loan_data=loan_data[np.argsort(loan_data[:,0])]"
   ]
  },
  {
   "cell_type": "code",
   "execution_count": 1385,
   "id": "226c6bf5-155b-4509-90a9-561c6c4c1642",
   "metadata": {},
   "outputs": [
    {
     "data": {
      "text/plain": [
       "array([[  373332.  ,     9950.  ,     9038.08, ...,       21.  ,        0.  ,        1.  ],\n",
       "       [  575239.  ,    12000.  ,    10900.2 , ...,       25.  ,        1.  ,        2.  ],\n",
       "       [  707689.  ,    10000.  ,     8924.3 , ...,       13.  ,        1.  ,        0.  ],\n",
       "       ...,\n",
       "       [68614880.  ,     5600.  ,     5121.65, ...,        8.  ,        1.  ,        1.  ],\n",
       "       [68615915.  ,     4000.  ,     3658.32, ...,       10.  ,        1.  ,        2.  ],\n",
       "       [68616519.  ,    21600.  ,    19754.93, ...,        3.  ,        0.  ,        2.  ]])"
      ]
     },
     "execution_count": 1385,
     "metadata": {},
     "output_type": "execute_result"
    }
   ],
   "source": [
    "loan_data"
   ]
  },
  {
   "cell_type": "markdown",
   "id": "8b37d537-8bff-4dc1-a57b-a17e65da2ced",
   "metadata": {},
   "source": [
    "Storing the New DataSet"
   ]
  },
  {
   "cell_type": "code",
   "execution_count": 1390,
   "id": "c78ccc0f-9a68-4d5a-8afa-75e539836982",
   "metadata": {},
   "outputs": [],
   "source": [
    "loan_data=np.vstack((header_full,loan_data))"
   ]
  },
  {
   "cell_type": "code",
   "execution_count": 1392,
   "id": "9c17311b-a49b-4b5e-b580-58f8cb903276",
   "metadata": {},
   "outputs": [
    {
     "data": {
      "text/plain": [
       "array([['id', 'loan_amnt_USD', 'loan_amnt_EUR', ..., 'sub_grade', 'verification_status',\n",
       "        'addr_state'],\n",
       "       ['373332.0', '9950.0', '9038.082814338286', ..., '21.0', '0.0', '1.0'],\n",
       "       ['575239.0', '12000.0', '10900.20037910145', ..., '25.0', '1.0', '2.0'],\n",
       "       ...,\n",
       "       ['68614880.0', '5600.0', '5121.647851612413', ..., '8.0', '1.0', '1.0'],\n",
       "       ['68615915.0', '4000.0', '3658.319894008867', ..., '10.0', '1.0', '2.0'],\n",
       "       ['68616519.0', '21600.0', '19754.927427647883', ..., '3.0', '0.0', '2.0']], dtype='<U32')"
      ]
     },
     "execution_count": 1392,
     "metadata": {},
     "output_type": "execute_result"
    }
   ],
   "source": [
    "loan_data"
   ]
  },
  {
   "cell_type": "code",
   "execution_count": 1394,
   "id": "c1b0a287-808d-41cb-8642-d0e7bb6e53d6",
   "metadata": {},
   "outputs": [],
   "source": [
    "np.savetxt(\"loan-data-preprocessed.csv\",\n",
    "           loan_data,\n",
    "           fmt=\"%s\",\n",
    "           delimiter=\",\")"
   ]
  },
  {
   "cell_type": "code",
   "execution_count": null,
   "id": "7bef798a-2fe9-4698-a708-a7ac179a32fa",
   "metadata": {},
   "outputs": [],
   "source": []
  }
 ],
 "metadata": {
  "kernelspec": {
   "display_name": "Python 3 (ipykernel)",
   "language": "python",
   "name": "python3"
  },
  "language_info": {
   "codemirror_mode": {
    "name": "ipython",
    "version": 3
   },
   "file_extension": ".py",
   "mimetype": "text/x-python",
   "name": "python",
   "nbconvert_exporter": "python",
   "pygments_lexer": "ipython3",
   "version": "3.12.4"
  }
 },
 "nbformat": 4,
 "nbformat_minor": 5
}
